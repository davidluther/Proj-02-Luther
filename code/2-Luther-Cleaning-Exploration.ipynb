{
 "cells": [
  {
   "cell_type": "markdown",
   "metadata": {},
   "source": [
    "# 2. Luther – Cleaning and Exploration"
   ]
  },
  {
   "cell_type": "markdown",
   "metadata": {},
   "source": [
    "## Imports & Versions"
   ]
  },
  {
   "cell_type": "code",
   "execution_count": null,
   "metadata": {
    "collapsed": true
   },
   "outputs": [],
   "source": [
    "import numpy as np\n",
    "import pandas as pd\n",
    "import requests\n",
    "# from bs4 import BeautifulSoup\n",
    "import pickle\n",
    "from datetime import datetime, timedelta\n",
    "import time\n",
    "import re\n",
    "import sys\n",
    "import matplotlib.pyplot as plt\n",
    "import seaborn as sns\n",
    "from copy import deepcopy\n",
    "\n",
    "% matplotlib inline\n",
    "\n",
    "# from selenium import webdriver\n",
    "# from selenium.webdriver.common.keys import Keys\n",
    "# import os\n",
    "# chromedriver = \"/Applications/chromedriver\"\n",
    "# os.environ[\"webdriver.chrome.driver\"] = chromedriver"
   ]
  },
  {
   "cell_type": "code",
   "execution_count": null,
   "metadata": {
    "collapsed": true
   },
   "outputs": [],
   "source": [
    "list_of_imports = [('Numpy', np), \n",
    "                   ('Pandas', pd), \n",
    "#                   ('Beautiful Soup', BeautifulSoup), \n",
    "#                    ('Selenium', webdriver)\n",
    "                  ]\n",
    "\n",
    "for mod in list_of_imports:\n",
    "    print(f\"{mod[0]}: {mod[1].__version__}\")\n",
    "\n",
    "print(\"Python:\", sys.version)"
   ]
  },
  {
   "cell_type": "markdown",
   "metadata": {},
   "source": [
    "## Necessary Functions and Variables"
   ]
  },
  {
   "cell_type": "code",
   "execution_count": null,
   "metadata": {
    "collapsed": true
   },
   "outputs": [],
   "source": [
    "# All the LGA-ORD flights:\n",
    "\n",
    "flight_urls = [\n",
    "\"http://flightaware.com/live/flight/AAL321/history/20171003/0130Z/KLGA/KORD\",\n",
    "\"http://flightaware.com/live/flight/AAL371/history/20171003/0030Z/KLGA/KORD\",\n",
    "\"http://flightaware.com/live/flight/AAL359/history/20171002/2330Z/KLGA/KORD\",\n",
    "\"http://flightaware.com/live/flight/AAL361/history/20171002/2230Z/KLGA/KORD\",\n",
    "\"http://flightaware.com/live/flight/AAL383/history/20171002/2200Z/KLGA/KORD\",\n",
    "\"http://flightaware.com/live/flight/AAL345/history/20171002/2130Z/KLGA/KORD\",\n",
    "\"http://flightaware.com/live/flight/AAL343/history/20171002/2030Z/KLGA/KORD\",\n",
    "\"http://flightaware.com/live/flight/AAL358/history/20171002/1930Z/KLGA/KORD\",\n",
    "\"http://flightaware.com/live/flight/AAL187/history/20171002/1830Z/KLGA/KORD\",\n",
    "\"http://flightaware.com/live/flight/AAL332/history/20171002/1730Z/KLGA/KORD\",\n",
    "\"http://flightaware.com/live/flight/AAL390/history/20171002/1630Z/KLGA/KORD\",\n",
    "\"http://flightaware.com/live/flight/AAL337/history/20171002/1530Z/KLGA/KORD\",\n",
    "\"http://flightaware.com/live/flight/AAL328/history/20171002/1430Z/KLGA/KORD\",\n",
    "\"http://flightaware.com/live/flight/AAL373/history/20171002/1330Z/KLGA/KORD\",\n",
    "\"http://flightaware.com/live/flight/AAL1619/history/20171002/1230Z/KLGA/KORD\",\n",
    "\"http://flightaware.com/live/flight/AAL289/history/20171002/1130Z/KLGA/KORD\",\n",
    "\"http://flightaware.com/live/flight/AAL304/history/20171002/1030Z/KLGA/KORD\"\n",
    "]"
   ]
  },
  {
   "cell_type": "code",
   "execution_count": null,
   "metadata": {
    "collapsed": true
   },
   "outputs": [],
   "source": [
    "flights = []\n",
    "for url in flight_urls:\n",
    "    fn_p = re.compile(r'AAL\\d{3,4}')\n",
    "    rn_p = re.compile(r'\\d{4}Z')\n",
    "    fn = fn_p.search(url).group()\n",
    "    rn = rn_p.search(url).group()\n",
    "    flights.append((fn,rn))"
   ]
  },
  {
   "cell_type": "code",
   "execution_count": null,
   "metadata": {
    "collapsed": true
   },
   "outputs": [],
   "source": [
    "# helper functions\n",
    "\n",
    "def diff_minutes(a, b):\n",
    "    diff = int((a.timestamp() - b.timestamp()) // 60)\n",
    "    return diff\n",
    "\n",
    "def day_quarters(dt_obj):\n",
    "    \"\"\"\n",
    "    Given a datetime object, extracts the hour, then returns a number (int)\n",
    "    0-3 indicating the quarter of the day.\n",
    "    \"\"\"\n",
    "    h = dt_obj.hour\n",
    "    \n",
    "    if h < 6:\n",
    "        q = 0\n",
    "    elif 6 <= h < 12:\n",
    "        q = 1\n",
    "    elif 12 <= h < 18:\n",
    "        q = 2\n",
    "    else:\n",
    "        q = 3\n",
    "    \n",
    "    return q"
   ]
  },
  {
   "cell_type": "code",
   "execution_count": 585,
   "metadata": {
    "collapsed": true
   },
   "outputs": [],
   "source": [
    "# variables for plot formatting\n",
    "\n",
    "# 60 min segments\n",
    "hours = np.array([-1+i for i in range(10)])\n",
    "minutes = 60 * hours\n",
    "\n",
    "# 30 min segments\n",
    "segments_30 = np.array([-2+i for i in range(17)])\n",
    "minutes_30 = 30 * segments_30\n",
    "\n",
    "# 15 min segments\n",
    "segments_15 = np.array([-4+i for i in range(37)])\n",
    "minutes_15 = 15 * segments_15\n",
    "\n",
    "# 10 min segments\n",
    "segments_10 = np.array([-6+i for i in range(55)])\n",
    "minutes_10 = 10 * segments_10\n",
    "\n",
    "# 10 min segments over three hours\n",
    "minutes_10_3 = 10 * np.array([-6+i for i in range(19)])\n",
    "\n",
    "# 5 min segments over two hours\n",
    "segments_5 = np.array([-12+i for i in range(25)])\n",
    "minutes_5 = 5 * segments_5\n",
    "\n",
    "# 5 min segments over three hours\n",
    "minutes_5_3 = 5 * np.array([-12+i for i in range(37)])\n",
    "\n",
    "# for use in ticks\n",
    "days = ['M', 'T', 'W', 'Th', 'F', 'Sa', 'Su']"
   ]
  },
  {
   "cell_type": "markdown",
   "metadata": {},
   "source": [
    "## Cleaning "
   ]
  },
  {
   "cell_type": "markdown",
   "metadata": {},
   "source": [
    "For explanations of every single step, scroll down to **Cleaning Prep**."
   ]
  },
  {
   "cell_type": "code",
   "execution_count": 660,
   "metadata": {},
   "outputs": [],
   "source": [
    "def clean_it_up(df):\n",
    "    \"\"\"\n",
    "    Includes all the operations necessary to clean and format any dataframe\n",
    "    of flights, given the following nine columns:\n",
    "    1. airline: airline as string\n",
    "    2. f_num: flight number, e.g. AAL321\n",
    "    3. origin: 3-letter airport code of origin\n",
    "    4. dest: 3-letter airport code of destination\n",
    "    5. date: date of flight, datetime.date() object\n",
    "    6. land_act: actual landing time, datetime object\n",
    "    7. arr_act: actual gate arrival time, datetime object\n",
    "    8. land_sch: scheduled landing time, datetime object\n",
    "    9. arr_sch: scheduled gate arrival time, datetime object\n",
    "    ---\n",
    "    IN: pandas dataframe of scraped flight data\n",
    "    OUT: pandas dataframe, sorted by date and then f_num\n",
    "    \"\"\"\n",
    "    \n",
    "    types = ['land', 'arr']\n",
    "    \n",
    "    # because it's easier to look at columns in this order\n",
    "    df = df.filter(['airline',\n",
    "                    'f_num', \n",
    "                    'origin', \n",
    "                    'dest', \n",
    "                    'date', \n",
    "                    'land_act', \n",
    "                    'land_sch', \n",
    "                    'arr_act', \n",
    "                    'arr_sch'])\n",
    "    \n",
    "    \n",
    "    # add lateness_land and lateness_arr columns\n",
    "    for n in types:\n",
    "        df['lateness_' + n] = (df\n",
    "         .apply(lambda row: diff_minutes(row[n + '_act'], row[n + '_sch']), axis=1))\n",
    "    \n",
    "    # advance land_act and arr_act dates one day if either after midnight\n",
    "    for n in types:\n",
    "        df.loc[df['lateness_' + n] < -120, n + '_act'] = (df[n + '_act']\n",
    "         .apply(lambda x: x + timedelta(days=1)))\n",
    "    \n",
    "    # correct lateness values if actual arrivals after midnight\n",
    "    for n in types:\n",
    "        col = 'lateness_' + n\n",
    "        df.loc[(df[col] < -120), col] = df[col] + 1440\n",
    "    \n",
    "    # drop records where flight was later than 8 hours\n",
    "    # this is the 'semi-canceled' threshold, and eliminates two flights\n",
    "    # that arrive in the morning of the day following that on which they\n",
    "    # were originally scheduled\n",
    "    # this case does not show up in the 'cleaning prep' subset...\n",
    "    df.drop(df[df.lateness_arr > 480].index, inplace=True)\n",
    "    \n",
    "    # add columns for taxi time (between landing and gate arrival)\n",
    "    for n in ['act', 'sch']:\n",
    "        df['taxi_' + n] = (df\n",
    "         .apply(lambda row: diff_minutes(row['arr_' + n], row['land_' + n]), axis=1))\n",
    "    \n",
    "    # drop records with negative scheduled taxi time\n",
    "    df.drop(df[df.taxi_sch < 0].index, inplace=True)\n",
    "    \n",
    "    # add column for hour of day\n",
    "    df['hour_of_day'] = df.apply(lambda x: x.arr_sch.hour, axis=1)\n",
    "    \n",
    "    # add column for quarter of day\n",
    "    df['q_of_day'] = df.apply(lambda x: day_quarters(x.arr_sch), axis=1)\n",
    "    \n",
    "    # add column for day of week\n",
    "    df['weekday'] = df.apply(lambda x: x.arr_sch.weekday(), axis=1)\n",
    "    \n",
    "    # add four columns where full datetimes are converted to times\n",
    "    for col in df.columns[5:9]:\n",
    "        df[col + '_t'] = df.apply(lambda row: row[col].time(), axis=1)\n",
    "    \n",
    "    # filter the outliers beyond the upper whisker \n",
    "    # (rows with lateness_arr values that exceed 51 min)\n",
    "    df_chop = df[df.lateness_arr <= 51]\n",
    "\n",
    "    for x in [df, df_chop]:\n",
    "        x = x.sort_values(by='f_num').reset_index(drop=True)\n",
    "      \n",
    "    return df_chop, df"
   ]
  },
  {
   "cell_type": "code",
   "execution_count": 727,
   "metadata": {
    "collapsed": true
   },
   "outputs": [],
   "source": [
    "with open('../data/AAL_complete.pkl', 'rb') as pf: \n",
    "    AAL_raw = pickle.load(pf)"
   ]
  },
  {
   "cell_type": "markdown",
   "metadata": {},
   "source": [
    "#### Extraction of test set for later (the last week of data)..."
   ]
  },
  {
   "cell_type": "code",
   "execution_count": 728,
   "metadata": {
    "collapsed": true
   },
   "outputs": [],
   "source": [
    "sep27 = datetime(2017, 9, 27).date()"
   ]
  },
  {
   "cell_type": "code",
   "execution_count": 729,
   "metadata": {},
   "outputs": [
    {
     "data": {
      "text/plain": [
       "(1960, 9)"
      ]
     },
     "execution_count": 729,
     "metadata": {},
     "output_type": "execute_result"
    }
   ],
   "source": [
    "AAL_raw.shape"
   ]
  },
  {
   "cell_type": "code",
   "execution_count": 730,
   "metadata": {
    "collapsed": true
   },
   "outputs": [],
   "source": [
    "AAL_raw_test = AAL_raw[AAL_raw.date > sep27]"
   ]
  },
  {
   "cell_type": "code",
   "execution_count": 731,
   "metadata": {
    "collapsed": true
   },
   "outputs": [],
   "source": [
    "AAL_raw_train = AAL_raw[AAL_raw.date <= sep27]"
   ]
  },
  {
   "cell_type": "code",
   "execution_count": 732,
   "metadata": {},
   "outputs": [
    {
     "data": {
      "text/plain": [
       "(106, 9)"
      ]
     },
     "execution_count": 732,
     "metadata": {},
     "output_type": "execute_result"
    }
   ],
   "source": [
    "AAL_raw_test.shape"
   ]
  },
  {
   "cell_type": "code",
   "execution_count": 733,
   "metadata": {},
   "outputs": [
    {
     "data": {
      "text/plain": [
       "(1854, 9)"
      ]
     },
     "execution_count": 733,
     "metadata": {},
     "output_type": "execute_result"
    }
   ],
   "source": [
    "AAL_raw_train.shape"
   ]
  },
  {
   "cell_type": "markdown",
   "metadata": {},
   "source": [
    "Then clean both based on observations of the training set:"
   ]
  },
  {
   "cell_type": "code",
   "execution_count": 734,
   "metadata": {
    "collapsed": true
   },
   "outputs": [],
   "source": [
    "AAL_test, AAL_test_unfiltered = clean_it_up(AAL_raw_test)"
   ]
  },
  {
   "cell_type": "code",
   "execution_count": 735,
   "metadata": {
    "collapsed": true
   },
   "outputs": [],
   "source": [
    "AAL, AAL_unfiltered = clean_it_up(AAL_raw_train)"
   ]
  },
  {
   "cell_type": "markdown",
   "metadata": {},
   "source": [
    "Save both:"
   ]
  },
  {
   "cell_type": "code",
   "execution_count": 736,
   "metadata": {
    "collapsed": true
   },
   "outputs": [],
   "source": [
    "with open('../data/AAL_test.pkl', 'wb') as pf:\n",
    "    pickle.dump(AAL_test, pf)"
   ]
  },
  {
   "cell_type": "code",
   "execution_count": 737,
   "metadata": {
    "collapsed": true
   },
   "outputs": [],
   "source": [
    "with open('../data/AAL_clean.pkl', 'wb') as pf:\n",
    "    pickle.dump(AAL, pf)"
   ]
  },
  {
   "cell_type": "markdown",
   "metadata": {},
   "source": [
    "## Exploration"
   ]
  },
  {
   "cell_type": "markdown",
   "metadata": {},
   "source": [
    "Having removed a few values that be considered as \"semi-canceled\" (e.g. **lateness_arr** > 8 hrs), there are still a number of outliers, as shown here:"
   ]
  },
  {
   "cell_type": "code",
   "execution_count": 763,
   "metadata": {},
   "outputs": [
    {
     "data": {
      "image/png": "[encoded data removed]",
      "text/plain": [
       "<matplotlib.figure.Figure at 0x11a42ceb8>"
      ]
     },
     "metadata": {},
     "output_type": "display_data"
    }
   ],
   "source": [
    "x = AAL_unfiltered.lateness_arr\n",
    "\n",
    "plt.figure(figsize=(16,8))\n",
    "plt.hist(x, bins=32, range=[-60,420])\n",
    "plt.xticks(minutes_30, [str(i)+'m' for i in minutes_30])\n",
    "plt.xlabel(\"Minutes Late (or Early)\", fontsize=16)\n",
    "plt.ylabel(\"Frequency\", fontsize=16)\n",
    "plt.title(\"Lateness of Gate Arrival (15-min Intervals)\", fontsize=24)\n",
    "\n",
    "# plt.savefig('../img/hist_lateness_pre.png', dpi=200, bbox_inches = 'tight')\n",
    ";"
   ]
  },
  {
   "cell_type": "code",
   "execution_count": 738,
   "metadata": {},
   "outputs": [
    {
     "data": {
      "image/png": "[encoded data removed]",
      "text/plain": [
       "<matplotlib.figure.Figure at 0x11a108cc0>"
      ]
     },
     "metadata": {},
     "output_type": "display_data"
    }
   ],
   "source": [
    "plt.figure(figsize=(16,8))\n",
    "sns.boxplot(AAL_unfiltered.lateness_arr)\n",
    "plt.xlabel(\"Minutes Late (or Early)\", fontsize=16)\n",
    "plt.xticks(minutes_30, [str(i)+' min' for i in minutes_30])\n",
    "plt.title(\"Box Plot of Gate Arrival Lateness\", fontsize=24)\n",
    "\n",
    "# plt.savefig('../img/hist_lateness_pre.png', dpi=200, bbox_inches = 'tight')\n",
    ";"
   ]
  },
  {
   "cell_type": "code",
   "execution_count": 739,
   "metadata": {},
   "outputs": [
    {
     "data": {
      "text/plain": [
       "51.0"
      ]
     },
     "execution_count": 739,
     "metadata": {},
     "output_type": "execute_result"
    }
   ],
   "source": [
    "iqr = AAL_unfiltered.lateness_arr.quantile(0.75) - AAL_unfiltered.lateness_arr.quantile(0.25)\n",
    "upper_whisker = AAL_unfiltered.lateness_arr.quantile(0.75) + 1.5 * iqr\n",
    "upper_whisker"
   ]
  },
  {
   "cell_type": "code",
   "execution_count": 740,
   "metadata": {},
   "outputs": [
    {
     "data": {
      "text/plain": [
       "(1836, 20)"
      ]
     },
     "execution_count": 740,
     "metadata": {},
     "output_type": "execute_result"
    }
   ],
   "source": [
    "AAL_unfiltered.shape"
   ]
  },
  {
   "cell_type": "code",
   "execution_count": 741,
   "metadata": {},
   "outputs": [
    {
     "data": {
      "text/plain": [
       "(151, 20)"
      ]
     },
     "execution_count": 741,
     "metadata": {},
     "output_type": "execute_result"
    }
   ],
   "source": [
    "AAL_unfiltered[AAL_unfiltered.lateness_arr > 51].shape"
   ]
  },
  {
   "cell_type": "markdown",
   "metadata": {},
   "source": [
    "The upper whisker of the box plot of **lateness_arr** (1.5x the IQR) is only 51 minutes. 151 entries out of 1836 (8%) were more than 51 minutes late. There certainly are unpredictable events which would cause extreme lateness, and the features of my model would be insufficent to predict their outcomes, so there should be a threshold at which I filter them out as outliers due to extreme circumstances. Not sure whether to set this at 51 minutes or something higher.\n",
    "\n",
    "For the purposes of modeling, I'll set it at 1 hr (51 min), unless I can argue a better prospect.\n",
    "\n",
    "*Note: I've already done this in the cleaning function, and the AAL dataframe reflects the change.*"
   ]
  },
  {
   "cell_type": "code",
   "execution_count": 687,
   "metadata": {},
   "outputs": [
    {
     "name": "stdout",
     "output_type": "stream",
     "text": [
      "<class 'pandas.core.frame.DataFrame'>\n",
      "Int64Index: 1685 entries, 3 to 1926\n",
      "Data columns (total 20 columns):\n",
      "airline          1685 non-null object\n",
      "f_num            1685 non-null object\n",
      "origin           1685 non-null object\n",
      "dest             1685 non-null object\n",
      "date             1685 non-null object\n",
      "land_act         1685 non-null datetime64[ns]\n",
      "land_sch         1685 non-null datetime64[ns]\n",
      "arr_act          1685 non-null datetime64[ns]\n",
      "arr_sch          1685 non-null datetime64[ns]\n",
      "lateness_land    1685 non-null int64\n",
      "lateness_arr     1685 non-null int64\n",
      "taxi_act         1685 non-null int64\n",
      "taxi_sch         1685 non-null int64\n",
      "hour_of_day      1685 non-null int64\n",
      "q_of_day         1685 non-null int64\n",
      "weekday          1685 non-null int64\n",
      "land_act_t       1685 non-null object\n",
      "land_sch_t       1685 non-null object\n",
      "arr_act_t        1685 non-null object\n",
      "arr_sch_t        1685 non-null object\n",
      "dtypes: datetime64[ns](4), int64(7), object(9)\n",
      "memory usage: 276.4+ KB\n"
     ]
    }
   ],
   "source": [
    "AAL.info()"
   ]
  },
  {
   "cell_type": "code",
   "execution_count": 765,
   "metadata": {},
   "outputs": [
    {
     "data": {
      "text/html": [
       "<div>\n",
       "<style>\n",
       "    .dataframe thead tr:only-child th {\n",
       "        text-align: right;\n",
       "    }\n",
       "\n",
       "    .dataframe thead th {\n",
       "        text-align: left;\n",
       "    }\n",
       "\n",
       "    .dataframe tbody tr th {\n",
       "        vertical-align: top;\n",
       "    }\n",
       "</style>\n",
       "<table border=\"1\" class=\"dataframe\">\n",
       "  <thead>\n",
       "    <tr style=\"text-align: right;\">\n",
       "      <th></th>\n",
       "      <th>lateness_land</th>\n",
       "      <th>lateness_arr</th>\n",
       "      <th>taxi_act</th>\n",
       "      <th>taxi_sch</th>\n",
       "      <th>hour_of_day</th>\n",
       "      <th>q_of_day</th>\n",
       "      <th>weekday</th>\n",
       "    </tr>\n",
       "  </thead>\n",
       "  <tbody>\n",
       "    <tr>\n",
       "      <th>count</th>\n",
       "      <td>1685.000000</td>\n",
       "      <td>1685.000000</td>\n",
       "      <td>1685.000000</td>\n",
       "      <td>1685.000000</td>\n",
       "      <td>1685.000000</td>\n",
       "      <td>1685.000000</td>\n",
       "      <td>1685.000000</td>\n",
       "    </tr>\n",
       "    <tr>\n",
       "      <th>mean</th>\n",
       "      <td>7.375074</td>\n",
       "      <td>-10.915134</td>\n",
       "      <td>16.528783</td>\n",
       "      <td>34.818991</td>\n",
       "      <td>14.434421</td>\n",
       "      <td>1.975074</td>\n",
       "      <td>2.785757</td>\n",
       "    </tr>\n",
       "    <tr>\n",
       "      <th>std</th>\n",
       "      <td>29.929697</td>\n",
       "      <td>20.120493</td>\n",
       "      <td>8.125203</td>\n",
       "      <td>20.884676</td>\n",
       "      <td>4.350581</td>\n",
       "      <td>0.768653</td>\n",
       "      <td>1.981455</td>\n",
       "    </tr>\n",
       "    <tr>\n",
       "      <th>min</th>\n",
       "      <td>-45.000000</td>\n",
       "      <td>-58.000000</td>\n",
       "      <td>0.000000</td>\n",
       "      <td>0.000000</td>\n",
       "      <td>8.000000</td>\n",
       "      <td>1.000000</td>\n",
       "      <td>0.000000</td>\n",
       "    </tr>\n",
       "    <tr>\n",
       "      <th>25%</th>\n",
       "      <td>-19.000000</td>\n",
       "      <td>-25.000000</td>\n",
       "      <td>11.000000</td>\n",
       "      <td>14.000000</td>\n",
       "      <td>11.000000</td>\n",
       "      <td>1.000000</td>\n",
       "      <td>1.000000</td>\n",
       "    </tr>\n",
       "    <tr>\n",
       "      <th>50%</th>\n",
       "      <td>8.000000</td>\n",
       "      <td>-14.000000</td>\n",
       "      <td>16.000000</td>\n",
       "      <td>40.000000</td>\n",
       "      <td>14.000000</td>\n",
       "      <td>2.000000</td>\n",
       "      <td>3.000000</td>\n",
       "    </tr>\n",
       "    <tr>\n",
       "      <th>75%</th>\n",
       "      <td>27.000000</td>\n",
       "      <td>0.000000</td>\n",
       "      <td>19.000000</td>\n",
       "      <td>55.000000</td>\n",
       "      <td>18.000000</td>\n",
       "      <td>3.000000</td>\n",
       "      <td>4.000000</td>\n",
       "    </tr>\n",
       "    <tr>\n",
       "      <th>max</th>\n",
       "      <td>100.000000</td>\n",
       "      <td>51.000000</td>\n",
       "      <td>68.000000</td>\n",
       "      <td>77.000000</td>\n",
       "      <td>23.000000</td>\n",
       "      <td>3.000000</td>\n",
       "      <td>6.000000</td>\n",
       "    </tr>\n",
       "  </tbody>\n",
       "</table>\n",
       "</div>"
      ],
      "text/plain": [
       "       lateness_land  lateness_arr     taxi_act     taxi_sch  hour_of_day  \\\n",
       "count    1685.000000   1685.000000  1685.000000  1685.000000  1685.000000   \n",
       "mean        7.375074    -10.915134    16.528783    34.818991    14.434421   \n",
       "std        29.929697     20.120493     8.125203    20.884676     4.350581   \n",
       "min       -45.000000    -58.000000     0.000000     0.000000     8.000000   \n",
       "25%       -19.000000    -25.000000    11.000000    14.000000    11.000000   \n",
       "50%         8.000000    -14.000000    16.000000    40.000000    14.000000   \n",
       "75%        27.000000      0.000000    19.000000    55.000000    18.000000   \n",
       "max       100.000000     51.000000    68.000000    77.000000    23.000000   \n",
       "\n",
       "          q_of_day      weekday  \n",
       "count  1685.000000  1685.000000  \n",
       "mean      1.975074     2.785757  \n",
       "std       0.768653     1.981455  \n",
       "min       1.000000     0.000000  \n",
       "25%       1.000000     1.000000  \n",
       "50%       2.000000     3.000000  \n",
       "75%       3.000000     4.000000  \n",
       "max       3.000000     6.000000  "
      ]
     },
     "execution_count": 765,
     "metadata": {},
     "output_type": "execute_result"
    }
   ],
   "source": [
    "AAL.describe()"
   ]
  },
  {
   "cell_type": "code",
   "execution_count": 690,
   "metadata": {
    "scrolled": false
   },
   "outputs": [
    {
     "data": {
      "text/html": [
       "<div>\n",
       "<style>\n",
       "    .dataframe thead tr:only-child th {\n",
       "        text-align: right;\n",
       "    }\n",
       "\n",
       "    .dataframe thead th {\n",
       "        text-align: left;\n",
       "    }\n",
       "\n",
       "    .dataframe tbody tr th {\n",
       "        vertical-align: top;\n",
       "    }\n",
       "</style>\n",
       "<table border=\"1\" class=\"dataframe\">\n",
       "  <thead>\n",
       "    <tr style=\"text-align: right;\">\n",
       "      <th></th>\n",
       "      <th>airline</th>\n",
       "      <th>f_num</th>\n",
       "      <th>origin</th>\n",
       "      <th>dest</th>\n",
       "      <th>date</th>\n",
       "      <th>land_act</th>\n",
       "      <th>land_sch</th>\n",
       "      <th>arr_act</th>\n",
       "      <th>arr_sch</th>\n",
       "      <th>lateness_land</th>\n",
       "      <th>lateness_arr</th>\n",
       "      <th>taxi_act</th>\n",
       "      <th>taxi_sch</th>\n",
       "      <th>hour_of_day</th>\n",
       "      <th>q_of_day</th>\n",
       "      <th>weekday</th>\n",
       "      <th>land_act_t</th>\n",
       "      <th>land_sch_t</th>\n",
       "      <th>arr_act_t</th>\n",
       "      <th>arr_sch_t</th>\n",
       "    </tr>\n",
       "  </thead>\n",
       "  <tbody>\n",
       "    <tr>\n",
       "      <th>924</th>\n",
       "      <td>American</td>\n",
       "      <td>AAL390</td>\n",
       "      <td>LGA</td>\n",
       "      <td>ORD</td>\n",
       "      <td>2017-05-22</td>\n",
       "      <td>2017-05-22 14:59:00</td>\n",
       "      <td>2017-05-22 13:30:00</td>\n",
       "      <td>2017-05-22 15:11:00</td>\n",
       "      <td>2017-05-22 14:20:00</td>\n",
       "      <td>89</td>\n",
       "      <td>51</td>\n",
       "      <td>12</td>\n",
       "      <td>50</td>\n",
       "      <td>14</td>\n",
       "      <td>2</td>\n",
       "      <td>0</td>\n",
       "      <td>14:59:00</td>\n",
       "      <td>13:30:00</td>\n",
       "      <td>15:11:00</td>\n",
       "      <td>14:20:00</td>\n",
       "    </tr>\n",
       "    <tr>\n",
       "      <th>1090</th>\n",
       "      <td>American</td>\n",
       "      <td>AAL328</td>\n",
       "      <td>LGA</td>\n",
       "      <td>ORD</td>\n",
       "      <td>2017-09-10</td>\n",
       "      <td>2017-09-10 12:45:00</td>\n",
       "      <td>2017-09-10 11:57:00</td>\n",
       "      <td>2017-09-10 13:06:00</td>\n",
       "      <td>2017-09-10 12:15:00</td>\n",
       "      <td>48</td>\n",
       "      <td>51</td>\n",
       "      <td>21</td>\n",
       "      <td>18</td>\n",
       "      <td>12</td>\n",
       "      <td>2</td>\n",
       "      <td>6</td>\n",
       "      <td>12:45:00</td>\n",
       "      <td>11:57:00</td>\n",
       "      <td>13:06:00</td>\n",
       "      <td>12:15:00</td>\n",
       "    </tr>\n",
       "    <tr>\n",
       "      <th>1406</th>\n",
       "      <td>American</td>\n",
       "      <td>AAL1619</td>\n",
       "      <td>LGA</td>\n",
       "      <td>ORD</td>\n",
       "      <td>2017-08-04</td>\n",
       "      <td>2017-08-04 10:50:00</td>\n",
       "      <td>2017-08-04 09:53:00</td>\n",
       "      <td>2017-08-04 11:06:00</td>\n",
       "      <td>2017-08-04 10:15:00</td>\n",
       "      <td>57</td>\n",
       "      <td>51</td>\n",
       "      <td>16</td>\n",
       "      <td>22</td>\n",
       "      <td>10</td>\n",
       "      <td>1</td>\n",
       "      <td>4</td>\n",
       "      <td>10:50:00</td>\n",
       "      <td>09:53:00</td>\n",
       "      <td>11:06:00</td>\n",
       "      <td>10:15:00</td>\n",
       "    </tr>\n",
       "    <tr>\n",
       "      <th>1697</th>\n",
       "      <td>American</td>\n",
       "      <td>AAL304</td>\n",
       "      <td>LGA</td>\n",
       "      <td>ORD</td>\n",
       "      <td>2017-06-23</td>\n",
       "      <td>2017-06-23 08:49:00</td>\n",
       "      <td>2017-06-23 07:27:00</td>\n",
       "      <td>2017-06-23 09:00:00</td>\n",
       "      <td>2017-06-23 08:10:00</td>\n",
       "      <td>82</td>\n",
       "      <td>50</td>\n",
       "      <td>11</td>\n",
       "      <td>43</td>\n",
       "      <td>8</td>\n",
       "      <td>1</td>\n",
       "      <td>4</td>\n",
       "      <td>08:49:00</td>\n",
       "      <td>07:27:00</td>\n",
       "      <td>09:00:00</td>\n",
       "      <td>08:10:00</td>\n",
       "    </tr>\n",
       "    <tr>\n",
       "      <th>1014</th>\n",
       "      <td>American</td>\n",
       "      <td>AAL337</td>\n",
       "      <td>LGA</td>\n",
       "      <td>ORD</td>\n",
       "      <td>2017-07-07</td>\n",
       "      <td>2017-07-07 13:54:00</td>\n",
       "      <td>2017-07-07 12:32:00</td>\n",
       "      <td>2017-07-07 14:11:00</td>\n",
       "      <td>2017-07-07 13:21:00</td>\n",
       "      <td>82</td>\n",
       "      <td>50</td>\n",
       "      <td>17</td>\n",
       "      <td>49</td>\n",
       "      <td>13</td>\n",
       "      <td>2</td>\n",
       "      <td>4</td>\n",
       "      <td>13:54:00</td>\n",
       "      <td>12:32:00</td>\n",
       "      <td>14:11:00</td>\n",
       "      <td>13:21:00</td>\n",
       "    </tr>\n",
       "  </tbody>\n",
       "</table>\n",
       "</div>"
      ],
      "text/plain": [
       "       airline    f_num origin dest        date            land_act  \\\n",
       "924   American   AAL390    LGA  ORD  2017-05-22 2017-05-22 14:59:00   \n",
       "1090  American   AAL328    LGA  ORD  2017-09-10 2017-09-10 12:45:00   \n",
       "1406  American  AAL1619    LGA  ORD  2017-08-04 2017-08-04 10:50:00   \n",
       "1697  American   AAL304    LGA  ORD  2017-06-23 2017-06-23 08:49:00   \n",
       "1014  American   AAL337    LGA  ORD  2017-07-07 2017-07-07 13:54:00   \n",
       "\n",
       "                land_sch             arr_act             arr_sch  \\\n",
       "924  2017-05-22 13:30:00 2017-05-22 15:11:00 2017-05-22 14:20:00   \n",
       "1090 2017-09-10 11:57:00 2017-09-10 13:06:00 2017-09-10 12:15:00   \n",
       "1406 2017-08-04 09:53:00 2017-08-04 11:06:00 2017-08-04 10:15:00   \n",
       "1697 2017-06-23 07:27:00 2017-06-23 09:00:00 2017-06-23 08:10:00   \n",
       "1014 2017-07-07 12:32:00 2017-07-07 14:11:00 2017-07-07 13:21:00   \n",
       "\n",
       "      lateness_land  lateness_arr  taxi_act  taxi_sch  hour_of_day  q_of_day  \\\n",
       "924              89            51        12        50           14         2   \n",
       "1090             48            51        21        18           12         2   \n",
       "1406             57            51        16        22           10         1   \n",
       "1697             82            50        11        43            8         1   \n",
       "1014             82            50        17        49           13         2   \n",
       "\n",
       "      weekday land_act_t land_sch_t arr_act_t arr_sch_t  \n",
       "924         0   14:59:00   13:30:00  15:11:00  14:20:00  \n",
       "1090        6   12:45:00   11:57:00  13:06:00  12:15:00  \n",
       "1406        4   10:50:00   09:53:00  11:06:00  10:15:00  \n",
       "1697        4   08:49:00   07:27:00  09:00:00  08:10:00  \n",
       "1014        4   13:54:00   12:32:00  14:11:00  13:21:00  "
      ]
     },
     "execution_count": 690,
     "metadata": {},
     "output_type": "execute_result"
    }
   ],
   "source": [
    "(AAL.sort_values(by='lateness_arr', \n",
    "                ascending=False\n",
    "                )\n",
    " .head(5))"
   ]
  },
  {
   "cell_type": "markdown",
   "metadata": {},
   "source": [
    "### Some Plots"
   ]
  },
  {
   "cell_type": "markdown",
   "metadata": {},
   "source": [
    "#### Histogram of Lateness (gate) by Hour"
   ]
  },
  {
   "cell_type": "markdown",
   "metadata": {},
   "source": [
    "*Label these if you use them later*"
   ]
  },
  {
   "cell_type": "code",
   "execution_count": 691,
   "metadata": {},
   "outputs": [],
   "source": [
    "# don't need this one after filtering...\n",
    "\n",
    "# x = AAL.lateness_arr\n",
    "\n",
    "# plt.figure(figsize=(16,8))\n",
    "# plt.hist(x, bins=9, range=[-60, 480])\n",
    "# plt.xticks(minutes, [str(i)+' hr' for i in hours])\n",
    "# plt.xlabel(\"Lateness\", fontsize=16)\n",
    "# plt.ylabel(\"Frequency\", fontsize=16)\n",
    "# plt.title(\"Lateness of Gate Arrival (1-hr Intervals)\", fontsize=24);"
   ]
  },
  {
   "cell_type": "code",
   "execution_count": 692,
   "metadata": {},
   "outputs": [
    {
     "data": {
      "image/png": "[encoded data removed]",
      "text/plain": [
       "<matplotlib.figure.Figure at 0x11a0df710>"
      ]
     },
     "metadata": {},
     "output_type": "display_data"
    }
   ],
   "source": [
    "x = AAL.lateness_arr\n",
    "\n",
    "plt.figure(figsize=(16,8))\n",
    "plt.hist(x, bins=minutes_5, range=[-60,60])\n",
    "plt.xticks(minutes_5, [str(i)+'m' for i in minutes_5])\n",
    "plt.xlabel(\"Lateness\", fontsize=16)\n",
    "plt.ylabel(\"Frequency\", fontsize=16)\n",
    "plt.title(\"Lateness of Gate Arrival (5-min Intervals)\", fontsize=24);"
   ]
  },
  {
   "cell_type": "code",
   "execution_count": 693,
   "metadata": {
    "scrolled": false
   },
   "outputs": [
    {
     "data": {
      "image/png": "[encoded data removed]",
      "text/plain": [
       "<matplotlib.figure.Figure at 0x117769780>"
      ]
     },
     "metadata": {},
     "output_type": "display_data"
    }
   ],
   "source": [
    "x = AAL.lateness_land\n",
    "\n",
    "plt.figure(figsize=(16,8))\n",
    "plt.hist(x, bins=minutes_5_3, range=[-60,120])\n",
    "plt.xticks(minutes_10_3, [str(i)+'m' for i in minutes_10_3])\n",
    "plt.xlabel(\"Lateness\", fontsize=16)\n",
    "plt.ylabel(\"Frequency\", fontsize=16)\n",
    "plt.title(\"Lateness of Landing (10-min Intervals)\", fontsize=24);"
   ]
  },
  {
   "cell_type": "markdown",
   "metadata": {},
   "source": [
    "Lateness of landings is multimodal, whereas lateness of gate arrivals is decidedly not... odd!"
   ]
  },
  {
   "cell_type": "code",
   "execution_count": 694,
   "metadata": {},
   "outputs": [
    {
     "data": {
      "image/png": "[encoded data removed]",
      "text/plain": [
       "<matplotlib.figure.Figure at 0x118db6ef0>"
      ]
     },
     "metadata": {},
     "output_type": "display_data"
    }
   ],
   "source": [
    "x = AAL.sort_values(by='date').groupby('date').lateness_arr.mean().index\n",
    "y = AAL.sort_values(by='date').groupby('date').lateness_arr.mean()\n",
    "# y0 = [0] * len(y)\n",
    "\n",
    "plt.figure(figsize=(16,8))\n",
    "plt.plot(x, y, label=\"Average Lateness\")\n",
    "# plt.plot(x, y0, \"r-\", label=\"On Time\")\n",
    "plt.legend()\n",
    "plt.fill_between(x,y,0)\n",
    "plt.xlabel(\"Date\", fontsize=16)\n",
    "plt.ylabel(\"Lateness (minutes)\", fontsize=16)\n",
    "plt.title(\"Average Lateness by Date\", fontsize=24);"
   ]
  },
  {
   "cell_type": "markdown",
   "metadata": {},
   "source": [
    "Doesn't really tell us anything interesting..."
   ]
  },
  {
   "cell_type": "code",
   "execution_count": 695,
   "metadata": {},
   "outputs": [
    {
     "data": {
      "image/png": "[encoded data removed]",
      "text/plain": [
       "<matplotlib.figure.Figure at 0x11a3ace80>"
      ]
     },
     "metadata": {},
     "output_type": "display_data"
    }
   ],
   "source": [
    "x = AAL.sort_values(by=['weekday', 'date']).weekday\n",
    "y = AAL.sort_values(by=['weekday', 'date']).lateness_arr\n",
    "y0 = [0] * len(x)\n",
    "\n",
    "plt.figure(figsize=(16,8))\n",
    "plt.plot(x, y, \"o\", label=\"Lateness\")\n",
    "plt.plot(x, y0, \"r-\", label=\"On Time\")\n",
    "plt.xlabel(\"Weekday\", fontsize=16)\n",
    "plt.ylabel(\"Minutes Late (or Early)\", fontsize=16)\n",
    "plt.xticks(range(7), days)\n",
    "plt.legend()\n",
    "plt.title(\"Lateness Values per Weekday (Scheduled Gate Arrival)\", fontsize=24);"
   ]
  },
  {
   "cell_type": "markdown",
   "metadata": {},
   "source": [
    "Looks like there might be a slight variation from day to day."
   ]
  },
  {
   "cell_type": "code",
   "execution_count": 782,
   "metadata": {},
   "outputs": [
    {
     "data": {
      "text/plain": [
       "''"
      ]
     },
     "execution_count": 782,
     "metadata": {},
     "output_type": "execute_result"
    },
    {
     "data": {
      "image/png": "[encoded data removed]",
      "text/plain": [
       "<matplotlib.figure.Figure at 0x119082390>"
      ]
     },
     "metadata": {},
     "output_type": "display_data"
    }
   ],
   "source": [
    "x = list(range(0,7))\n",
    "y = AAL.groupby('weekday').lateness_arr.mean()\n",
    "\n",
    "plt.figure(figsize=(16,8))\n",
    "plt.bar(x, y, label=\"Lateness\")\n",
    "# sns.barplot(x,y)\n",
    "plt.legend()\n",
    "plt.xlabel(\"Weekday\", fontsize=16)\n",
    "plt.ylabel(\"Minutes Late (or Early)\", fontsize=16)\n",
    "plt.xticks(range(7), days)\n",
    "plt.title(\"Mean Lateness per Weekday (Gate Arrival)\", fontsize=24)\n",
    "\n",
    "plt.savefig('../img/weekday.png', dpi=200, bbox_inches = 'tight')\n",
    ";"
   ]
  },
  {
   "cell_type": "markdown",
   "metadata": {},
   "source": [
    "Friday seems to be the day of most lateness; the weekends the days of least."
   ]
  },
  {
   "cell_type": "code",
   "execution_count": 781,
   "metadata": {
    "scrolled": false
   },
   "outputs": [
    {
     "data": {
      "text/plain": [
       "''"
      ]
     },
     "execution_count": 781,
     "metadata": {},
     "output_type": "execute_result"
    },
    {
     "data": {
      "image/png": "[encoded data removed]",
      "text/plain": [
       "<matplotlib.figure.Figure at 0x115e64908>"
      ]
     },
     "metadata": {},
     "output_type": "display_data"
    }
   ],
   "source": [
    "temp = AAL.groupby('q_of_day').mean()\n",
    "\n",
    "x = temp.index\n",
    "y = temp.lateness_arr\n",
    "\n",
    "plt.figure(figsize=(16,8))\n",
    "plt.bar(x, y, label=\"Lateness\")\n",
    "# plt.hist(AAL.q_of_day, bins=4, range=[0,4])\n",
    "plt.legend()\n",
    "plt.xlabel(\"Hour\", fontsize=16)\n",
    "plt.ylabel(\"Minutes Late (or Early)\", fontsize=16)\n",
    "plt.xticks(range(4), ['Midnight-6am', '6am-Noon', 'Noon-6pm', '6pm-midnight'])\n",
    "plt.title(\"Mean Lateness by Quarter of Day (Gate Arrival)\", fontsize=24)\n",
    "\n",
    "plt.savefig('../img/quarter_bar.png', dpi=200, bbox_inches = 'tight')\n",
    ";"
   ]
  },
  {
   "cell_type": "code",
   "execution_count": 780,
   "metadata": {},
   "outputs": [
    {
     "data": {
      "text/plain": [
       "''"
      ]
     },
     "execution_count": 780,
     "metadata": {},
     "output_type": "execute_result"
    },
    {
     "data": {
      "image/png": "[encoded data removed]",
      "text/plain": [
       "<matplotlib.figure.Figure at 0x117da0898>"
      ]
     },
     "metadata": {},
     "output_type": "display_data"
    }
   ],
   "source": [
    "plt.figure(figsize=(16,8))\n",
    "sns.boxplot(x=AAL.q_of_day, y=AAL.lateness_arr)\n",
    "plt.xlabel(\"Quarter of Day\", fontsize=16)\n",
    "plt.ylabel(\"Minutes Late (or Early)\", fontsize=16)\n",
    "plt.xticks(range(3), ['6am-Noon', 'Noon-6pm', '6pm-midnight'])\n",
    "plt.title(\"Mean Lateness by Quarter of Day (Gate Arrival)\", fontsize=24)\n",
    "\n",
    "plt.savefig('../img/quarter_box.png', dpi=200, bbox_inches = 'tight')\n",
    ";"
   ]
  },
  {
   "cell_type": "markdown",
   "metadata": {},
   "source": [
    "I want to look at lateness per hour of day, to make sure my quarters are capturing anything useful. We need another column for that (adding to cleaning function)."
   ]
  },
  {
   "cell_type": "code",
   "execution_count": 700,
   "metadata": {},
   "outputs": [],
   "source": [
    "# Now done in cleaning step\n",
    "# AAL['hour'] = AAL.apply(lambda x: x.arr_sch.hour, axis=1)"
   ]
  },
  {
   "cell_type": "code",
   "execution_count": 779,
   "metadata": {},
   "outputs": [
    {
     "data": {
      "image/png": "[encoded data removed]",
      "text/plain": [
       "<matplotlib.figure.Figure at 0x117ca95c0>"
      ]
     },
     "metadata": {},
     "output_type": "display_data"
    }
   ],
   "source": [
    "# relabel this one to make it clearer\n",
    "\n",
    "temp = AAL.groupby('hour_of_day').mean()\n",
    "\n",
    "x = temp.index\n",
    "y = temp.lateness_arr\n",
    "\n",
    "plt.figure(figsize=(16,8))\n",
    "plt.bar(x, y, label=\"Lateness (negative for early)\")\n",
    "# plt.hist(AAL.hour, bins=24, range=[0,24])\n",
    "# plt.legend()\n",
    "plt.xticks(range(24), [i for i in range(24)])\n",
    "plt.xlabel(\"Hour\", fontsize=16)\n",
    "plt.ylabel(\"Minutes Late (or Early)\", fontsize=16)\n",
    "plt.title(\"Mean Lateness by Hour of Day (Gate Arrival)\", fontsize=24);"
   ]
  },
  {
   "cell_type": "code",
   "execution_count": 703,
   "metadata": {
    "scrolled": false
   },
   "outputs": [
    {
     "data": {
      "image/png": "[encoded data removed]",
      "text/plain": [
       "<matplotlib.figure.Figure at 0x118fc5780>"
      ]
     },
     "metadata": {},
     "output_type": "display_data"
    }
   ],
   "source": [
    "x = AAL.hour_of_day\n",
    "\n",
    "plt.figure(figsize=(16,8))\n",
    "plt.hist(x, bins=24, range=(0,24))\n",
    "plt.xticks(range(24), [i for i in range(24)])\n",
    "plt.xlabel(\"Hour\", fontsize=16)\n",
    "plt.ylabel(\"Frequency\", fontsize=16)\n",
    "plt.title(\"Flights by Hour of Day\", fontsize=24);"
   ]
  },
  {
   "cell_type": "code",
   "execution_count": 705,
   "metadata": {},
   "outputs": [
    {
     "data": {
      "image/png": "[encoded data removed]",
      "text/plain": [
       "<matplotlib.figure.Figure at 0x117cc63c8>"
      ]
     },
     "metadata": {},
     "output_type": "display_data"
    }
   ],
   "source": [
    "temp = AAL.groupby('hour_of_day').lateness_arr.agg(['mean', 'count'])\n",
    "temp['w_mean'] = temp['mean'] * temp['count'] / len(AAL)\n",
    "\n",
    "x = temp.index\n",
    "y = temp.w_mean\n",
    "\n",
    "plt.figure(figsize=(16,8))\n",
    "plt.bar(x, y, label=\"Lateness (negative for early)\")\n",
    "# plt.hist(AAL.hour, bins=24, range=[0,24])\n",
    "# plt.legend()\n",
    "plt.xticks(range(24), [i for i in range(24)])\n",
    "plt.xlabel(\"Hour\", fontsize=16)\n",
    "plt.ylabel(\"Mean Lateness * (Flights / Total Flights)\", fontsize=16)\n",
    "plt.title(\"Weighted Mean Lateness per Hour of Day\", fontsize=24);"
   ]
  },
  {
   "cell_type": "markdown",
   "metadata": {},
   "source": [
    "Do a plot of mean weighted by number of flights during that hour?"
   ]
  },
  {
   "cell_type": "code",
   "execution_count": 706,
   "metadata": {},
   "outputs": [
    {
     "data": {
      "image/png": "[encoded data removed]",
      "text/plain": [
       "<matplotlib.figure.Figure at 0x11664b0f0>"
      ]
     },
     "metadata": {},
     "output_type": "display_data"
    }
   ],
   "source": [
    "x = AAL.sort_values(by=['weekday', 'date']).weekday\n",
    "y = AAL.sort_values(by=['weekday', 'date']).taxi_sch\n",
    "\n",
    "plt.figure(figsize=(16,8))\n",
    "plt.plot(x, y, \"o\", label=\"Taxi Time\")\n",
    "plt.xlabel(\"Weekday\", fontsize=16)\n",
    "plt.ylabel(\"Minutes Taxiing\", fontsize=16)\n",
    "# plt.legend()\n",
    "plt.xticks(range(7), days)\n",
    "plt.title(\"Scheduled Taxi Time per Weekday (All Flights)\", fontsize=24);"
   ]
  },
  {
   "cell_type": "markdown",
   "metadata": {},
   "source": [
    "The presence of two distinct groups per day leads me to believe that this is probably a result of the multimodal pattern seen in landing lateness, as \"scheduled\" taxi time is the result of subtracting scheduled landing time from scheduled gate arrival time. There's no way of knowing if the posted landing time was scheduled weeks in advance or right before take-off, but I'll assume for our purposes that it's known enough in advance to be useful as a predictor."
   ]
  },
  {
   "cell_type": "code",
   "execution_count": 778,
   "metadata": {},
   "outputs": [
    {
     "data": {
      "text/plain": [
       "''"
      ]
     },
     "execution_count": 778,
     "metadata": {},
     "output_type": "execute_result"
    },
    {
     "data": {
      "image/png": "[encoded data removed]",
      "text/plain": [
       "<matplotlib.figure.Figure at 0x11a185f98>"
      ]
     },
     "metadata": {},
     "output_type": "display_data"
    }
   ],
   "source": [
    "x = AAL.taxi_sch\n",
    "y = AAL.lateness_arr\n",
    "\n",
    "plt.figure(figsize=(16,8))\n",
    "plt.scatter(x, y)\n",
    "plt.xlabel(\"Scheduled Taxi Time (Minutes)\", fontsize=16)\n",
    "plt.ylabel(\"Minutes Late (or Early)\", fontsize=16)\n",
    "# plt.legend()\n",
    "# plt.xticks(range(7), days)\n",
    "plt.title(\"Scheduled Taxi Time v. Lateness (Gate Arrival)\", fontsize=24)\n",
    "\n",
    "plt.savefig('../img/taxi_scatter.png', dpi=200, bbox_inches = 'tight')\n",
    ";"
   ]
  },
  {
   "cell_type": "markdown",
   "metadata": {},
   "source": [
    "## Cleaning Prep"
   ]
  },
  {
   "cell_type": "markdown",
   "metadata": {},
   "source": [
    "Performed on one batch of raw, scraped data while the others were scraping."
   ]
  },
  {
   "cell_type": "code",
   "execution_count": 258,
   "metadata": {
    "collapsed": true
   },
   "outputs": [],
   "source": [
    "with open('../data/AAL343_1003_210250.pkl', 'rb') as pf: \n",
    "    df = pickle.load(pf)"
   ]
  },
  {
   "cell_type": "markdown",
   "metadata": {},
   "source": [
    "Columns with **land** in the title refer to landing time; columns with **arr** in the title refer to gate arrival. The latter is the one officials listed as the arrival time, so I'll be focusing on this one."
   ]
  },
  {
   "cell_type": "code",
   "execution_count": 259,
   "metadata": {},
   "outputs": [
    {
     "data": {
      "text/html": [
       "<div>\n",
       "<style>\n",
       "    .dataframe thead tr:only-child th {\n",
       "        text-align: right;\n",
       "    }\n",
       "\n",
       "    .dataframe thead th {\n",
       "        text-align: left;\n",
       "    }\n",
       "\n",
       "    .dataframe tbody tr th {\n",
       "        vertical-align: top;\n",
       "    }\n",
       "</style>\n",
       "<table border=\"1\" class=\"dataframe\">\n",
       "  <thead>\n",
       "    <tr style=\"text-align: right;\">\n",
       "      <th></th>\n",
       "      <th>airline</th>\n",
       "      <th>f_num</th>\n",
       "      <th>origin</th>\n",
       "      <th>dest</th>\n",
       "      <th>date</th>\n",
       "      <th>land_act</th>\n",
       "      <th>arr_act</th>\n",
       "      <th>land_sch</th>\n",
       "      <th>arr_sch</th>\n",
       "    </tr>\n",
       "  </thead>\n",
       "  <tbody>\n",
       "    <tr>\n",
       "      <th>0</th>\n",
       "      <td>American</td>\n",
       "      <td>AAL345</td>\n",
       "      <td>LGA</td>\n",
       "      <td>ORD</td>\n",
       "      <td>2017-10-02</td>\n",
       "      <td>2017-10-02 18:45:00</td>\n",
       "      <td>2017-10-02 19:01:00</td>\n",
       "      <td>2017-10-02 19:01:00</td>\n",
       "      <td>2017-10-02 19:16:00</td>\n",
       "    </tr>\n",
       "    <tr>\n",
       "      <th>1</th>\n",
       "      <td>American</td>\n",
       "      <td>AAL345</td>\n",
       "      <td>LGA</td>\n",
       "      <td>ORD</td>\n",
       "      <td>2017-10-01</td>\n",
       "      <td>2017-10-01 19:00:00</td>\n",
       "      <td>2017-10-01 19:20:00</td>\n",
       "      <td>2017-10-01 19:02:00</td>\n",
       "      <td>2017-10-01 19:16:00</td>\n",
       "    </tr>\n",
       "    <tr>\n",
       "      <th>2</th>\n",
       "      <td>American</td>\n",
       "      <td>AAL345</td>\n",
       "      <td>LGA</td>\n",
       "      <td>ORD</td>\n",
       "      <td>2017-09-29</td>\n",
       "      <td>2017-09-29 18:44:00</td>\n",
       "      <td>2017-09-29 19:01:00</td>\n",
       "      <td>2017-09-29 19:10:00</td>\n",
       "      <td>2017-09-29 19:16:00</td>\n",
       "    </tr>\n",
       "    <tr>\n",
       "      <th>3</th>\n",
       "      <td>American</td>\n",
       "      <td>AAL345</td>\n",
       "      <td>LGA</td>\n",
       "      <td>ORD</td>\n",
       "      <td>2017-09-28</td>\n",
       "      <td>2017-09-28 19:11:00</td>\n",
       "      <td>2017-09-28 19:23:00</td>\n",
       "      <td>2017-09-28 19:08:00</td>\n",
       "      <td>2017-09-28 19:16:00</td>\n",
       "    </tr>\n",
       "    <tr>\n",
       "      <th>4</th>\n",
       "      <td>American</td>\n",
       "      <td>AAL345</td>\n",
       "      <td>LGA</td>\n",
       "      <td>ORD</td>\n",
       "      <td>2017-09-27</td>\n",
       "      <td>2017-09-27 19:01:00</td>\n",
       "      <td>2017-09-27 19:18:00</td>\n",
       "      <td>2017-09-27 19:06:00</td>\n",
       "      <td>2017-09-27 19:16:00</td>\n",
       "    </tr>\n",
       "  </tbody>\n",
       "</table>\n",
       "</div>"
      ],
      "text/plain": [
       "    airline   f_num origin dest        date            land_act  \\\n",
       "0  American  AAL345    LGA  ORD  2017-10-02 2017-10-02 18:45:00   \n",
       "1  American  AAL345    LGA  ORD  2017-10-01 2017-10-01 19:00:00   \n",
       "2  American  AAL345    LGA  ORD  2017-09-29 2017-09-29 18:44:00   \n",
       "3  American  AAL345    LGA  ORD  2017-09-28 2017-09-28 19:11:00   \n",
       "4  American  AAL345    LGA  ORD  2017-09-27 2017-09-27 19:01:00   \n",
       "\n",
       "              arr_act            land_sch             arr_sch  \n",
       "0 2017-10-02 19:01:00 2017-10-02 19:01:00 2017-10-02 19:16:00  \n",
       "1 2017-10-01 19:20:00 2017-10-01 19:02:00 2017-10-01 19:16:00  \n",
       "2 2017-09-29 19:01:00 2017-09-29 19:10:00 2017-09-29 19:16:00  \n",
       "3 2017-09-28 19:23:00 2017-09-28 19:08:00 2017-09-28 19:16:00  \n",
       "4 2017-09-27 19:18:00 2017-09-27 19:06:00 2017-09-27 19:16:00  "
      ]
     },
     "execution_count": 259,
     "metadata": {},
     "output_type": "execute_result"
    }
   ],
   "source": [
    "df.head()"
   ]
  },
  {
   "cell_type": "markdown",
   "metadata": {},
   "source": [
    "Creates **lateness_land** and **lateness_arr** column in minutes, where positive indicates late and negative indicates early."
   ]
  },
  {
   "cell_type": "code",
   "execution_count": 260,
   "metadata": {
    "collapsed": true
   },
   "outputs": [],
   "source": [
    "# def diff_minutes(a, b):\n",
    "#     diff = int((a.timestamp() - b.timestamp()) // 60)\n",
    "#     return diff"
   ]
  },
  {
   "cell_type": "code",
   "execution_count": 261,
   "metadata": {
    "collapsed": true
   },
   "outputs": [],
   "source": [
    "types = ['land', 'arr']"
   ]
  },
  {
   "cell_type": "code",
   "execution_count": 262,
   "metadata": {
    "collapsed": true
   },
   "outputs": [],
   "source": [
    "for n in types:\n",
    "    df['lateness_' + n] = (df\n",
    "     .apply(lambda row: diff_minutes(row[n + '_act'], row[n + '_sch']), axis=1))\n",
    "\n",
    "# df['lateness_arr'] = (df\n",
    "#  .apply(lambda row: diff_minutes(row.arr_act, row.arr_sch), axis=1))"
   ]
  },
  {
   "cell_type": "code",
   "execution_count": 263,
   "metadata": {},
   "outputs": [
    {
     "name": "stdout",
     "output_type": "stream",
     "text": [
      "count    226.000000\n",
      "mean      23.185841\n",
      "std       86.810040\n",
      "min     -998.000000\n",
      "25%      -14.000000\n",
      "50%       20.000000\n",
      "75%       48.750000\n",
      "max      194.000000\n",
      "Name: lateness_land, dtype: float64 \n",
      "\n",
      "count     226.000000\n",
      "mean        7.000000\n",
      "std        84.019998\n",
      "min     -1056.000000\n",
      "25%       -18.000000\n",
      "50%        -0.500000\n",
      "75%        24.750000\n",
      "max       182.000000\n",
      "Name: lateness_arr, dtype: float64 \n",
      "\n"
     ]
    }
   ],
   "source": [
    "for n in types:\n",
    "    print(df['lateness_' + n].describe(), '\\n')"
   ]
  },
  {
   "cell_type": "markdown",
   "metadata": {},
   "source": [
    "It would be impossible for a plane to be -1056 minutes late (nearly 18 hours early). An investigation..."
   ]
  },
  {
   "cell_type": "code",
   "execution_count": 264,
   "metadata": {},
   "outputs": [
    {
     "data": {
      "text/html": [
       "<div>\n",
       "<style>\n",
       "    .dataframe thead tr:only-child th {\n",
       "        text-align: right;\n",
       "    }\n",
       "\n",
       "    .dataframe thead th {\n",
       "        text-align: left;\n",
       "    }\n",
       "\n",
       "    .dataframe tbody tr th {\n",
       "        vertical-align: top;\n",
       "    }\n",
       "</style>\n",
       "<table border=\"1\" class=\"dataframe\">\n",
       "  <thead>\n",
       "    <tr style=\"text-align: right;\">\n",
       "      <th></th>\n",
       "      <th>airline</th>\n",
       "      <th>f_num</th>\n",
       "      <th>origin</th>\n",
       "      <th>dest</th>\n",
       "      <th>date</th>\n",
       "      <th>land_act</th>\n",
       "      <th>arr_act</th>\n",
       "      <th>land_sch</th>\n",
       "      <th>arr_sch</th>\n",
       "      <th>lateness_land</th>\n",
       "      <th>lateness_arr</th>\n",
       "    </tr>\n",
       "  </thead>\n",
       "  <tbody>\n",
       "    <tr>\n",
       "      <th>164</th>\n",
       "      <td>American</td>\n",
       "      <td>AAL343</td>\n",
       "      <td>LGA</td>\n",
       "      <td>ORD</td>\n",
       "      <td>2017-08-03</td>\n",
       "      <td>2017-08-03 00:43:00</td>\n",
       "      <td>2017-08-03 00:50:00</td>\n",
       "      <td>2017-08-03 17:21:00</td>\n",
       "      <td>2017-08-03 18:26:00</td>\n",
       "      <td>-998</td>\n",
       "      <td>-1056</td>\n",
       "    </tr>\n",
       "    <tr>\n",
       "      <th>196</th>\n",
       "      <td>American</td>\n",
       "      <td>AAL343</td>\n",
       "      <td>LGA</td>\n",
       "      <td>ORD</td>\n",
       "      <td>2017-06-11</td>\n",
       "      <td>2017-06-11 17:20:00</td>\n",
       "      <td>2017-06-11 17:33:00</td>\n",
       "      <td>2017-06-11 17:17:00</td>\n",
       "      <td>2017-06-11 18:26:00</td>\n",
       "      <td>3</td>\n",
       "      <td>-53</td>\n",
       "    </tr>\n",
       "    <tr>\n",
       "      <th>127</th>\n",
       "      <td>American</td>\n",
       "      <td>AAL343</td>\n",
       "      <td>LGA</td>\n",
       "      <td>ORD</td>\n",
       "      <td>2017-09-21</td>\n",
       "      <td>2017-09-21 17:21:00</td>\n",
       "      <td>2017-09-21 17:33:00</td>\n",
       "      <td>2017-09-21 18:04:00</td>\n",
       "      <td>2017-09-21 18:20:00</td>\n",
       "      <td>-43</td>\n",
       "      <td>-47</td>\n",
       "    </tr>\n",
       "    <tr>\n",
       "      <th>177</th>\n",
       "      <td>American</td>\n",
       "      <td>AAL343</td>\n",
       "      <td>LGA</td>\n",
       "      <td>ORD</td>\n",
       "      <td>2017-07-09</td>\n",
       "      <td>2017-07-09 17:28:00</td>\n",
       "      <td>2017-07-09 17:40:00</td>\n",
       "      <td>2017-07-09 17:22:00</td>\n",
       "      <td>2017-07-09 18:26:00</td>\n",
       "      <td>6</td>\n",
       "      <td>-46</td>\n",
       "    </tr>\n",
       "    <tr>\n",
       "      <th>130</th>\n",
       "      <td>American</td>\n",
       "      <td>AAL343</td>\n",
       "      <td>LGA</td>\n",
       "      <td>ORD</td>\n",
       "      <td>2017-09-16</td>\n",
       "      <td>2017-09-16 17:28:00</td>\n",
       "      <td>2017-09-16 17:35:00</td>\n",
       "      <td>2017-09-16 18:00:00</td>\n",
       "      <td>2017-09-16 18:20:00</td>\n",
       "      <td>-32</td>\n",
       "      <td>-45</td>\n",
       "    </tr>\n",
       "    <tr>\n",
       "      <th>187</th>\n",
       "      <td>American</td>\n",
       "      <td>AAL343</td>\n",
       "      <td>LGA</td>\n",
       "      <td>ORD</td>\n",
       "      <td>2017-06-26</td>\n",
       "      <td>2017-06-26 17:36:00</td>\n",
       "      <td>2017-06-26 17:42:00</td>\n",
       "      <td>2017-06-26 17:24:00</td>\n",
       "      <td>2017-06-26 18:26:00</td>\n",
       "      <td>12</td>\n",
       "      <td>-44</td>\n",
       "    </tr>\n",
       "    <tr>\n",
       "      <th>188</th>\n",
       "      <td>American</td>\n",
       "      <td>AAL343</td>\n",
       "      <td>LGA</td>\n",
       "      <td>ORD</td>\n",
       "      <td>2017-06-25</td>\n",
       "      <td>2017-06-25 17:36:00</td>\n",
       "      <td>2017-06-25 17:44:00</td>\n",
       "      <td>2017-06-25 17:26:00</td>\n",
       "      <td>2017-06-25 18:26:00</td>\n",
       "      <td>10</td>\n",
       "      <td>-42</td>\n",
       "    </tr>\n",
       "    <tr>\n",
       "      <th>182</th>\n",
       "      <td>American</td>\n",
       "      <td>AAL343</td>\n",
       "      <td>LGA</td>\n",
       "      <td>ORD</td>\n",
       "      <td>2017-07-02</td>\n",
       "      <td>2017-07-02 17:35:00</td>\n",
       "      <td>2017-07-02 17:45:00</td>\n",
       "      <td>2017-07-02 17:25:00</td>\n",
       "      <td>2017-07-02 18:26:00</td>\n",
       "      <td>10</td>\n",
       "      <td>-41</td>\n",
       "    </tr>\n",
       "    <tr>\n",
       "      <th>195</th>\n",
       "      <td>American</td>\n",
       "      <td>AAL343</td>\n",
       "      <td>LGA</td>\n",
       "      <td>ORD</td>\n",
       "      <td>2017-06-12</td>\n",
       "      <td>2017-06-12 17:34:00</td>\n",
       "      <td>2017-06-12 17:50:00</td>\n",
       "      <td>2017-06-12 17:17:00</td>\n",
       "      <td>2017-06-12 18:26:00</td>\n",
       "      <td>17</td>\n",
       "      <td>-36</td>\n",
       "    </tr>\n",
       "    <tr>\n",
       "      <th>73</th>\n",
       "      <td>American</td>\n",
       "      <td>AAL345</td>\n",
       "      <td>LGA</td>\n",
       "      <td>ORD</td>\n",
       "      <td>2017-06-26</td>\n",
       "      <td>2017-06-26 18:39:00</td>\n",
       "      <td>2017-06-26 18:49:00</td>\n",
       "      <td>2017-06-26 18:23:00</td>\n",
       "      <td>2017-06-26 19:24:00</td>\n",
       "      <td>16</td>\n",
       "      <td>-35</td>\n",
       "    </tr>\n",
       "  </tbody>\n",
       "</table>\n",
       "</div>"
      ],
      "text/plain": [
       "      airline   f_num origin dest        date            land_act  \\\n",
       "164  American  AAL343    LGA  ORD  2017-08-03 2017-08-03 00:43:00   \n",
       "196  American  AAL343    LGA  ORD  2017-06-11 2017-06-11 17:20:00   \n",
       "127  American  AAL343    LGA  ORD  2017-09-21 2017-09-21 17:21:00   \n",
       "177  American  AAL343    LGA  ORD  2017-07-09 2017-07-09 17:28:00   \n",
       "130  American  AAL343    LGA  ORD  2017-09-16 2017-09-16 17:28:00   \n",
       "187  American  AAL343    LGA  ORD  2017-06-26 2017-06-26 17:36:00   \n",
       "188  American  AAL343    LGA  ORD  2017-06-25 2017-06-25 17:36:00   \n",
       "182  American  AAL343    LGA  ORD  2017-07-02 2017-07-02 17:35:00   \n",
       "195  American  AAL343    LGA  ORD  2017-06-12 2017-06-12 17:34:00   \n",
       "73   American  AAL345    LGA  ORD  2017-06-26 2017-06-26 18:39:00   \n",
       "\n",
       "                arr_act            land_sch             arr_sch  \\\n",
       "164 2017-08-03 00:50:00 2017-08-03 17:21:00 2017-08-03 18:26:00   \n",
       "196 2017-06-11 17:33:00 2017-06-11 17:17:00 2017-06-11 18:26:00   \n",
       "127 2017-09-21 17:33:00 2017-09-21 18:04:00 2017-09-21 18:20:00   \n",
       "177 2017-07-09 17:40:00 2017-07-09 17:22:00 2017-07-09 18:26:00   \n",
       "130 2017-09-16 17:35:00 2017-09-16 18:00:00 2017-09-16 18:20:00   \n",
       "187 2017-06-26 17:42:00 2017-06-26 17:24:00 2017-06-26 18:26:00   \n",
       "188 2017-06-25 17:44:00 2017-06-25 17:26:00 2017-06-25 18:26:00   \n",
       "182 2017-07-02 17:45:00 2017-07-02 17:25:00 2017-07-02 18:26:00   \n",
       "195 2017-06-12 17:50:00 2017-06-12 17:17:00 2017-06-12 18:26:00   \n",
       "73  2017-06-26 18:49:00 2017-06-26 18:23:00 2017-06-26 19:24:00   \n",
       "\n",
       "     lateness_land  lateness_arr  \n",
       "164           -998         -1056  \n",
       "196              3           -53  \n",
       "127            -43           -47  \n",
       "177              6           -46  \n",
       "130            -32           -45  \n",
       "187             12           -44  \n",
       "188             10           -42  \n",
       "182             10           -41  \n",
       "195             17           -36  \n",
       "73              16           -35  "
      ]
     },
     "execution_count": 264,
     "metadata": {},
     "output_type": "execute_result"
    }
   ],
   "source": [
    "df.sort_values(by='lateness_arr').head(10)"
   ]
  },
  {
   "cell_type": "markdown",
   "metadata": {},
   "source": [
    "One flight didn't get in until the next day, and since FlightAware only lists a time of landing and not the date, it gets stamped with the same date as the scheduled arrival, so the actual arrival in this case seems to be much earlier even though it is almost six hours late.\n",
    "\n",
    "Adding 24 hours (1440 minutes) will remedy this. Since it's a ~2 hr flight, I will assume that a flight cannot possibly be more than 2 hours early, and will add 1440 to any 'lateness' value less than -120 minutes.\n",
    "\n",
    "I'll also advance the corresponding arrival date(s) by one day in order to accurately indicate the exact arrival time (not important for regression, but matters with plotting)."
   ]
  },
  {
   "cell_type": "markdown",
   "metadata": {},
   "source": [
    "First, advancing dates where flights landed and/or arrived after midnight:"
   ]
  },
  {
   "cell_type": "code",
   "execution_count": 265,
   "metadata": {
    "collapsed": true
   },
   "outputs": [],
   "source": [
    "for n in types:\n",
    "    df.loc[df['lateness_' + n] < -120, n + '_act'] = (df[n + '_act']\n",
    "     .apply(lambda x: x + timedelta(days=1)))"
   ]
  },
  {
   "cell_type": "code",
   "execution_count": 266,
   "metadata": {},
   "outputs": [
    {
     "data": {
      "text/html": [
       "<div>\n",
       "<style>\n",
       "    .dataframe thead tr:only-child th {\n",
       "        text-align: right;\n",
       "    }\n",
       "\n",
       "    .dataframe thead th {\n",
       "        text-align: left;\n",
       "    }\n",
       "\n",
       "    .dataframe tbody tr th {\n",
       "        vertical-align: top;\n",
       "    }\n",
       "</style>\n",
       "<table border=\"1\" class=\"dataframe\">\n",
       "  <thead>\n",
       "    <tr style=\"text-align: right;\">\n",
       "      <th></th>\n",
       "      <th>airline</th>\n",
       "      <th>f_num</th>\n",
       "      <th>origin</th>\n",
       "      <th>dest</th>\n",
       "      <th>date</th>\n",
       "      <th>land_act</th>\n",
       "      <th>arr_act</th>\n",
       "      <th>land_sch</th>\n",
       "      <th>arr_sch</th>\n",
       "      <th>lateness_land</th>\n",
       "      <th>lateness_arr</th>\n",
       "    </tr>\n",
       "  </thead>\n",
       "  <tbody>\n",
       "    <tr>\n",
       "      <th>164</th>\n",
       "      <td>American</td>\n",
       "      <td>AAL343</td>\n",
       "      <td>LGA</td>\n",
       "      <td>ORD</td>\n",
       "      <td>2017-08-03</td>\n",
       "      <td>2017-08-04 00:43:00</td>\n",
       "      <td>2017-08-04 00:50:00</td>\n",
       "      <td>2017-08-03 17:21:00</td>\n",
       "      <td>2017-08-03 18:26:00</td>\n",
       "      <td>-998</td>\n",
       "      <td>-1056</td>\n",
       "    </tr>\n",
       "    <tr>\n",
       "      <th>196</th>\n",
       "      <td>American</td>\n",
       "      <td>AAL343</td>\n",
       "      <td>LGA</td>\n",
       "      <td>ORD</td>\n",
       "      <td>2017-06-11</td>\n",
       "      <td>2017-06-11 17:20:00</td>\n",
       "      <td>2017-06-11 17:33:00</td>\n",
       "      <td>2017-06-11 17:17:00</td>\n",
       "      <td>2017-06-11 18:26:00</td>\n",
       "      <td>3</td>\n",
       "      <td>-53</td>\n",
       "    </tr>\n",
       "    <tr>\n",
       "      <th>127</th>\n",
       "      <td>American</td>\n",
       "      <td>AAL343</td>\n",
       "      <td>LGA</td>\n",
       "      <td>ORD</td>\n",
       "      <td>2017-09-21</td>\n",
       "      <td>2017-09-21 17:21:00</td>\n",
       "      <td>2017-09-21 17:33:00</td>\n",
       "      <td>2017-09-21 18:04:00</td>\n",
       "      <td>2017-09-21 18:20:00</td>\n",
       "      <td>-43</td>\n",
       "      <td>-47</td>\n",
       "    </tr>\n",
       "    <tr>\n",
       "      <th>177</th>\n",
       "      <td>American</td>\n",
       "      <td>AAL343</td>\n",
       "      <td>LGA</td>\n",
       "      <td>ORD</td>\n",
       "      <td>2017-07-09</td>\n",
       "      <td>2017-07-09 17:28:00</td>\n",
       "      <td>2017-07-09 17:40:00</td>\n",
       "      <td>2017-07-09 17:22:00</td>\n",
       "      <td>2017-07-09 18:26:00</td>\n",
       "      <td>6</td>\n",
       "      <td>-46</td>\n",
       "    </tr>\n",
       "    <tr>\n",
       "      <th>130</th>\n",
       "      <td>American</td>\n",
       "      <td>AAL343</td>\n",
       "      <td>LGA</td>\n",
       "      <td>ORD</td>\n",
       "      <td>2017-09-16</td>\n",
       "      <td>2017-09-16 17:28:00</td>\n",
       "      <td>2017-09-16 17:35:00</td>\n",
       "      <td>2017-09-16 18:00:00</td>\n",
       "      <td>2017-09-16 18:20:00</td>\n",
       "      <td>-32</td>\n",
       "      <td>-45</td>\n",
       "    </tr>\n",
       "  </tbody>\n",
       "</table>\n",
       "</div>"
      ],
      "text/plain": [
       "      airline   f_num origin dest        date            land_act  \\\n",
       "164  American  AAL343    LGA  ORD  2017-08-03 2017-08-04 00:43:00   \n",
       "196  American  AAL343    LGA  ORD  2017-06-11 2017-06-11 17:20:00   \n",
       "127  American  AAL343    LGA  ORD  2017-09-21 2017-09-21 17:21:00   \n",
       "177  American  AAL343    LGA  ORD  2017-07-09 2017-07-09 17:28:00   \n",
       "130  American  AAL343    LGA  ORD  2017-09-16 2017-09-16 17:28:00   \n",
       "\n",
       "                arr_act            land_sch             arr_sch  \\\n",
       "164 2017-08-04 00:50:00 2017-08-03 17:21:00 2017-08-03 18:26:00   \n",
       "196 2017-06-11 17:33:00 2017-06-11 17:17:00 2017-06-11 18:26:00   \n",
       "127 2017-09-21 17:33:00 2017-09-21 18:04:00 2017-09-21 18:20:00   \n",
       "177 2017-07-09 17:40:00 2017-07-09 17:22:00 2017-07-09 18:26:00   \n",
       "130 2017-09-16 17:35:00 2017-09-16 18:00:00 2017-09-16 18:20:00   \n",
       "\n",
       "     lateness_land  lateness_arr  \n",
       "164           -998         -1056  \n",
       "196              3           -53  \n",
       "127            -43           -47  \n",
       "177              6           -46  \n",
       "130            -32           -45  "
      ]
     },
     "execution_count": 266,
     "metadata": {},
     "output_type": "execute_result"
    }
   ],
   "source": [
    "df.sort_values(by='lateness_arr', ascending=True).head()"
   ]
  },
  {
   "cell_type": "markdown",
   "metadata": {},
   "source": [
    "And correcting the lateness values:"
   ]
  },
  {
   "cell_type": "code",
   "execution_count": 267,
   "metadata": {
    "collapsed": true
   },
   "outputs": [],
   "source": [
    "for n in types:\n",
    "    col = 'lateness_' + n\n",
    "    df.loc[(df[col] < -120), col] = df[col] + 1440\n",
    "    \n",
    "# df.loc[(df.lateness_sch < -120), 'lateness_sch'] = df.lateness_sch + 1440"
   ]
  },
  {
   "cell_type": "code",
   "execution_count": 268,
   "metadata": {},
   "outputs": [
    {
     "data": {
      "text/plain": [
       "airline                     American\n",
       "f_num                         AAL343\n",
       "origin                           LGA\n",
       "dest                             ORD\n",
       "date                      2017-08-03\n",
       "land_act         2017-08-04 00:43:00\n",
       "arr_act          2017-08-04 00:50:00\n",
       "land_sch         2017-08-03 17:21:00\n",
       "arr_sch          2017-08-03 18:26:00\n",
       "lateness_land                    442\n",
       "lateness_arr                     384\n",
       "Name: 164, dtype: object"
      ]
     },
     "execution_count": 268,
     "metadata": {},
     "output_type": "execute_result"
    }
   ],
   "source": [
    "df.iloc[164]"
   ]
  },
  {
   "cell_type": "code",
   "execution_count": 269,
   "metadata": {
    "scrolled": true
   },
   "outputs": [
    {
     "name": "stdout",
     "output_type": "stream",
     "text": [
      "count    226.000000\n",
      "mean      29.557522\n",
      "std       60.332624\n",
      "min      -45.000000\n",
      "25%      -14.000000\n",
      "50%       20.000000\n",
      "75%       49.000000\n",
      "max      442.000000\n",
      "Name: lateness_land, dtype: float64 \n",
      "\n",
      "count    226.000000\n",
      "mean      13.371681\n",
      "std       51.265790\n",
      "min      -53.000000\n",
      "25%      -18.000000\n",
      "50%        0.000000\n",
      "75%       25.000000\n",
      "max      384.000000\n",
      "Name: lateness_arr, dtype: float64 \n",
      "\n"
     ]
    }
   ],
   "source": [
    "for n in types:\n",
    "    print(df['lateness_' + n].describe(), '\\n')"
   ]
  },
  {
   "cell_type": "markdown",
   "metadata": {},
   "source": [
    "**Very interesting that the median lateness_arr is exactly 0** after correcting for the above. One might suppose that the airlines (or at least American) may be scheduling their arrival times such that 50% of the flights are \"early.\" This is just a sample of the entire data set; curious to see if that holds up when all records are accounted for."
   ]
  },
  {
   "cell_type": "markdown",
   "metadata": {},
   "source": [
    "Now that arrival dates are corrected, any further subtractions will be legit. I'll make two new columns, one for scheduled taxi time, and one for actual taxi time:"
   ]
  },
  {
   "cell_type": "code",
   "execution_count": 270,
   "metadata": {
    "collapsed": true
   },
   "outputs": [],
   "source": [
    "for n in ['act', 'sch']:\n",
    "    df['taxi_' + n] = (df\n",
    "     .apply(lambda row: diff_minutes(row['arr_' + n], row['land_' + n]), axis=1))"
   ]
  },
  {
   "cell_type": "code",
   "execution_count": 274,
   "metadata": {
    "collapsed": true
   },
   "outputs": [],
   "source": [
    "df = df.filter(['airline', \n",
    "          'f_num', \n",
    "          'origin', \n",
    "          'dest', \n",
    "          'date', \n",
    "          'land_act', \n",
    "          'land_sch', \n",
    "          'arr_act', \n",
    "          'arr_sch', \n",
    "          'lateness_land',\n",
    "          'lateness_arr',\n",
    "          'taxi_act',\n",
    "          'taxi_sch'])"
   ]
  },
  {
   "cell_type": "code",
   "execution_count": 275,
   "metadata": {
    "scrolled": false
   },
   "outputs": [
    {
     "data": {
      "text/html": [
       "<div>\n",
       "<style>\n",
       "    .dataframe thead tr:only-child th {\n",
       "        text-align: right;\n",
       "    }\n",
       "\n",
       "    .dataframe thead th {\n",
       "        text-align: left;\n",
       "    }\n",
       "\n",
       "    .dataframe tbody tr th {\n",
       "        vertical-align: top;\n",
       "    }\n",
       "</style>\n",
       "<table border=\"1\" class=\"dataframe\">\n",
       "  <thead>\n",
       "    <tr style=\"text-align: right;\">\n",
       "      <th></th>\n",
       "      <th>airline</th>\n",
       "      <th>f_num</th>\n",
       "      <th>origin</th>\n",
       "      <th>dest</th>\n",
       "      <th>date</th>\n",
       "      <th>land_act</th>\n",
       "      <th>land_sch</th>\n",
       "      <th>arr_act</th>\n",
       "      <th>arr_sch</th>\n",
       "      <th>lateness_land</th>\n",
       "      <th>lateness_arr</th>\n",
       "      <th>taxi_act</th>\n",
       "      <th>taxi_sch</th>\n",
       "    </tr>\n",
       "  </thead>\n",
       "  <tbody>\n",
       "    <tr>\n",
       "      <th>41</th>\n",
       "      <td>American</td>\n",
       "      <td>AAL345</td>\n",
       "      <td>LGA</td>\n",
       "      <td>ORD</td>\n",
       "      <td>2017-08-10</td>\n",
       "      <td>2017-08-10 19:22:00</td>\n",
       "      <td>2017-08-10 19:35:00</td>\n",
       "      <td>2017-08-10 19:32:00</td>\n",
       "      <td>2017-08-10 19:24:00</td>\n",
       "      <td>-13</td>\n",
       "      <td>8</td>\n",
       "      <td>10</td>\n",
       "      <td>-11</td>\n",
       "    </tr>\n",
       "    <tr>\n",
       "      <th>34</th>\n",
       "      <td>American</td>\n",
       "      <td>AAL345</td>\n",
       "      <td>LGA</td>\n",
       "      <td>ORD</td>\n",
       "      <td>2017-08-18</td>\n",
       "      <td>2017-08-18 19:23:00</td>\n",
       "      <td>2017-08-18 19:34:00</td>\n",
       "      <td>2017-08-18 19:38:00</td>\n",
       "      <td>2017-08-18 19:24:00</td>\n",
       "      <td>-11</td>\n",
       "      <td>14</td>\n",
       "      <td>15</td>\n",
       "      <td>-10</td>\n",
       "    </tr>\n",
       "    <tr>\n",
       "      <th>40</th>\n",
       "      <td>American</td>\n",
       "      <td>AAL345</td>\n",
       "      <td>LGA</td>\n",
       "      <td>ORD</td>\n",
       "      <td>2017-08-11</td>\n",
       "      <td>2017-08-11 19:02:00</td>\n",
       "      <td>2017-08-11 19:28:00</td>\n",
       "      <td>2017-08-11 19:10:00</td>\n",
       "      <td>2017-08-11 19:24:00</td>\n",
       "      <td>-26</td>\n",
       "      <td>-14</td>\n",
       "      <td>8</td>\n",
       "      <td>-4</td>\n",
       "    </tr>\n",
       "    <tr>\n",
       "      <th>160</th>\n",
       "      <td>American</td>\n",
       "      <td>AAL343</td>\n",
       "      <td>LGA</td>\n",
       "      <td>ORD</td>\n",
       "      <td>2017-08-11</td>\n",
       "      <td>2017-08-11 18:14:00</td>\n",
       "      <td>2017-08-11 18:28:00</td>\n",
       "      <td>2017-08-11 18:27:00</td>\n",
       "      <td>2017-08-11 18:26:00</td>\n",
       "      <td>-14</td>\n",
       "      <td>1</td>\n",
       "      <td>13</td>\n",
       "      <td>-2</td>\n",
       "    </tr>\n",
       "    <tr>\n",
       "      <th>172</th>\n",
       "      <td>American</td>\n",
       "      <td>AAL343</td>\n",
       "      <td>LGA</td>\n",
       "      <td>ORD</td>\n",
       "      <td>2017-07-18</td>\n",
       "      <td>2017-07-18 17:40:00</td>\n",
       "      <td>2017-07-18 18:22:00</td>\n",
       "      <td>2017-07-18 17:54:00</td>\n",
       "      <td>2017-07-18 18:26:00</td>\n",
       "      <td>-42</td>\n",
       "      <td>-32</td>\n",
       "      <td>14</td>\n",
       "      <td>4</td>\n",
       "    </tr>\n",
       "  </tbody>\n",
       "</table>\n",
       "</div>"
      ],
      "text/plain": [
       "      airline   f_num origin dest        date            land_act  \\\n",
       "41   American  AAL345    LGA  ORD  2017-08-10 2017-08-10 19:22:00   \n",
       "34   American  AAL345    LGA  ORD  2017-08-18 2017-08-18 19:23:00   \n",
       "40   American  AAL345    LGA  ORD  2017-08-11 2017-08-11 19:02:00   \n",
       "160  American  AAL343    LGA  ORD  2017-08-11 2017-08-11 18:14:00   \n",
       "172  American  AAL343    LGA  ORD  2017-07-18 2017-07-18 17:40:00   \n",
       "\n",
       "               land_sch             arr_act             arr_sch  \\\n",
       "41  2017-08-10 19:35:00 2017-08-10 19:32:00 2017-08-10 19:24:00   \n",
       "34  2017-08-18 19:34:00 2017-08-18 19:38:00 2017-08-18 19:24:00   \n",
       "40  2017-08-11 19:28:00 2017-08-11 19:10:00 2017-08-11 19:24:00   \n",
       "160 2017-08-11 18:28:00 2017-08-11 18:27:00 2017-08-11 18:26:00   \n",
       "172 2017-07-18 18:22:00 2017-07-18 17:54:00 2017-07-18 18:26:00   \n",
       "\n",
       "     lateness_land  lateness_arr  taxi_act  taxi_sch  \n",
       "41             -13             8        10       -11  \n",
       "34             -11            14        15       -10  \n",
       "40             -26           -14         8        -4  \n",
       "160            -14             1        13        -2  \n",
       "172            -42           -32        14         4  "
      ]
     },
     "execution_count": 275,
     "metadata": {},
     "output_type": "execute_result"
    }
   ],
   "source": [
    "df.sort_values(by='taxi_sch').head()"
   ]
  },
  {
   "cell_type": "markdown",
   "metadata": {},
   "source": [
    "Negative scheduled taxi time? Odd. Means that the scheuded gate arrival time is sooner than the scheduled landing time, which would be impossible. Not knowing how this comes about, I'll toss rows where **taxi_sch** < 0."
   ]
  },
  {
   "cell_type": "code",
   "execution_count": 284,
   "metadata": {
    "collapsed": true
   },
   "outputs": [],
   "source": [
    "df.drop(df[df.taxi_sch < 0].index, inplace=True)"
   ]
  },
  {
   "cell_type": "markdown",
   "metadata": {},
   "source": [
    "If I want to look at time of day, I'll break the day into quarters based on **arr_sch** and treat TOD categorically."
   ]
  },
  {
   "cell_type": "code",
   "execution_count": 307,
   "metadata": {
    "collapsed": true
   },
   "outputs": [],
   "source": [
    "# def day_quarters(dt_obj):\n",
    "#     \"\"\"\n",
    "#     Given a datetime object, extracts the hour, then returns a number (int)\n",
    "#     0-3 indicating the quarter of the day.\n",
    "#     \"\"\"\n",
    "#     h = dt_obj.hour\n",
    "    \n",
    "#     if h < 6:\n",
    "#         q = 0\n",
    "#     elif 6 <= h < 12:\n",
    "#         q = 1\n",
    "#     elif 12 <= h < 18:\n",
    "#         q = 2\n",
    "#     else:\n",
    "#         q = 3\n",
    "    \n",
    "#     return q"
   ]
  },
  {
   "cell_type": "code",
   "execution_count": 308,
   "metadata": {
    "collapsed": true
   },
   "outputs": [],
   "source": [
    "df['q_of_day'] = df.apply(lambda x: day_quarters(x.arr_sch), axis=1)"
   ]
  },
  {
   "cell_type": "code",
   "execution_count": 309,
   "metadata": {},
   "outputs": [
    {
     "data": {
      "text/html": [
       "<div>\n",
       "<style>\n",
       "    .dataframe thead tr:only-child th {\n",
       "        text-align: right;\n",
       "    }\n",
       "\n",
       "    .dataframe thead th {\n",
       "        text-align: left;\n",
       "    }\n",
       "\n",
       "    .dataframe tbody tr th {\n",
       "        vertical-align: top;\n",
       "    }\n",
       "</style>\n",
       "<table border=\"1\" class=\"dataframe\">\n",
       "  <thead>\n",
       "    <tr style=\"text-align: right;\">\n",
       "      <th></th>\n",
       "      <th>airline</th>\n",
       "      <th>f_num</th>\n",
       "      <th>origin</th>\n",
       "      <th>dest</th>\n",
       "      <th>date</th>\n",
       "      <th>land_act</th>\n",
       "      <th>land_sch</th>\n",
       "      <th>arr_act</th>\n",
       "      <th>arr_sch</th>\n",
       "      <th>lateness_land</th>\n",
       "      <th>lateness_arr</th>\n",
       "      <th>taxi_act</th>\n",
       "      <th>taxi_sch</th>\n",
       "      <th>q_of_day</th>\n",
       "    </tr>\n",
       "  </thead>\n",
       "  <tbody>\n",
       "    <tr>\n",
       "      <th>157</th>\n",
       "      <td>American</td>\n",
       "      <td>AAL343</td>\n",
       "      <td>LGA</td>\n",
       "      <td>ORD</td>\n",
       "      <td>2017-08-15</td>\n",
       "      <td>2017-08-15 17:39:00</td>\n",
       "      <td>2017-08-15 18:16:00</td>\n",
       "      <td>2017-08-15 18:02:00</td>\n",
       "      <td>2017-08-15 18:26:00</td>\n",
       "      <td>-37</td>\n",
       "      <td>-24</td>\n",
       "      <td>23</td>\n",
       "      <td>10</td>\n",
       "      <td>3</td>\n",
       "    </tr>\n",
       "    <tr>\n",
       "      <th>123</th>\n",
       "      <td>American</td>\n",
       "      <td>AAL343</td>\n",
       "      <td>LGA</td>\n",
       "      <td>ORD</td>\n",
       "      <td>2017-09-25</td>\n",
       "      <td>2017-09-25 17:58:00</td>\n",
       "      <td>2017-09-25 18:07:00</td>\n",
       "      <td>2017-09-25 18:27:00</td>\n",
       "      <td>2017-09-25 18:20:00</td>\n",
       "      <td>-9</td>\n",
       "      <td>7</td>\n",
       "      <td>29</td>\n",
       "      <td>13</td>\n",
       "      <td>3</td>\n",
       "    </tr>\n",
       "    <tr>\n",
       "      <th>145</th>\n",
       "      <td>American</td>\n",
       "      <td>AAL343</td>\n",
       "      <td>LGA</td>\n",
       "      <td>ORD</td>\n",
       "      <td>2017-08-30</td>\n",
       "      <td>2017-08-30 18:16:00</td>\n",
       "      <td>2017-08-30 18:06:00</td>\n",
       "      <td>2017-08-30 18:46:00</td>\n",
       "      <td>2017-08-30 18:20:00</td>\n",
       "      <td>10</td>\n",
       "      <td>26</td>\n",
       "      <td>30</td>\n",
       "      <td>14</td>\n",
       "      <td>3</td>\n",
       "    </tr>\n",
       "    <tr>\n",
       "      <th>50</th>\n",
       "      <td>American</td>\n",
       "      <td>AAL345</td>\n",
       "      <td>LGA</td>\n",
       "      <td>ORD</td>\n",
       "      <td>2017-07-28</td>\n",
       "      <td>2017-07-28 19:23:00</td>\n",
       "      <td>2017-07-28 19:10:00</td>\n",
       "      <td>2017-07-28 20:07:00</td>\n",
       "      <td>2017-07-28 19:24:00</td>\n",
       "      <td>13</td>\n",
       "      <td>43</td>\n",
       "      <td>44</td>\n",
       "      <td>14</td>\n",
       "      <td>3</td>\n",
       "    </tr>\n",
       "    <tr>\n",
       "      <th>127</th>\n",
       "      <td>American</td>\n",
       "      <td>AAL343</td>\n",
       "      <td>LGA</td>\n",
       "      <td>ORD</td>\n",
       "      <td>2017-09-21</td>\n",
       "      <td>2017-09-21 17:21:00</td>\n",
       "      <td>2017-09-21 18:04:00</td>\n",
       "      <td>2017-09-21 17:33:00</td>\n",
       "      <td>2017-09-21 18:20:00</td>\n",
       "      <td>-43</td>\n",
       "      <td>-47</td>\n",
       "      <td>12</td>\n",
       "      <td>16</td>\n",
       "      <td>3</td>\n",
       "    </tr>\n",
       "  </tbody>\n",
       "</table>\n",
       "</div>"
      ],
      "text/plain": [
       "      airline   f_num origin dest        date            land_act  \\\n",
       "157  American  AAL343    LGA  ORD  2017-08-15 2017-08-15 17:39:00   \n",
       "123  American  AAL343    LGA  ORD  2017-09-25 2017-09-25 17:58:00   \n",
       "145  American  AAL343    LGA  ORD  2017-08-30 2017-08-30 18:16:00   \n",
       "50   American  AAL345    LGA  ORD  2017-07-28 2017-07-28 19:23:00   \n",
       "127  American  AAL343    LGA  ORD  2017-09-21 2017-09-21 17:21:00   \n",
       "\n",
       "               land_sch             arr_act             arr_sch  \\\n",
       "157 2017-08-15 18:16:00 2017-08-15 18:02:00 2017-08-15 18:26:00   \n",
       "123 2017-09-25 18:07:00 2017-09-25 18:27:00 2017-09-25 18:20:00   \n",
       "145 2017-08-30 18:06:00 2017-08-30 18:46:00 2017-08-30 18:20:00   \n",
       "50  2017-07-28 19:10:00 2017-07-28 20:07:00 2017-07-28 19:24:00   \n",
       "127 2017-09-21 18:04:00 2017-09-21 17:33:00 2017-09-21 18:20:00   \n",
       "\n",
       "     lateness_land  lateness_arr  taxi_act  taxi_sch  q_of_day  \n",
       "157            -37           -24        23        10         3  \n",
       "123             -9             7        29        13         3  \n",
       "145             10            26        30        14         3  \n",
       "50              13            43        44        14         3  \n",
       "127            -43           -47        12        16         3  "
      ]
     },
     "execution_count": 309,
     "metadata": {},
     "output_type": "execute_result"
    }
   ],
   "source": [
    "df.sample(5)"
   ]
  },
  {
   "cell_type": "markdown",
   "metadata": {},
   "source": [
    "I'll need a column to indicate day of the week so I can build dummy columns come time for regression:"
   ]
  },
  {
   "cell_type": "code",
   "execution_count": 310,
   "metadata": {
    "collapsed": true,
    "scrolled": true
   },
   "outputs": [],
   "source": [
    "df['weekday'] = df.apply(lambda x: x.arr_sch.weekday(), axis=1)"
   ]
  },
  {
   "cell_type": "markdown",
   "metadata": {},
   "source": [
    "And it may be advantageous to have just the times without the date (for plotting):"
   ]
  },
  {
   "cell_type": "code",
   "execution_count": 311,
   "metadata": {
    "collapsed": true
   },
   "outputs": [],
   "source": [
    "for col in df.columns[5:9]:\n",
    "    df[col+'_t'] = df.apply(lambda row: row[col].time(), axis=1)"
   ]
  },
  {
   "cell_type": "code",
   "execution_count": 312,
   "metadata": {},
   "outputs": [
    {
     "data": {
      "text/html": [
       "<div>\n",
       "<style>\n",
       "    .dataframe thead tr:only-child th {\n",
       "        text-align: right;\n",
       "    }\n",
       "\n",
       "    .dataframe thead th {\n",
       "        text-align: left;\n",
       "    }\n",
       "\n",
       "    .dataframe tbody tr th {\n",
       "        vertical-align: top;\n",
       "    }\n",
       "</style>\n",
       "<table border=\"1\" class=\"dataframe\">\n",
       "  <thead>\n",
       "    <tr style=\"text-align: right;\">\n",
       "      <th></th>\n",
       "      <th>airline</th>\n",
       "      <th>f_num</th>\n",
       "      <th>origin</th>\n",
       "      <th>dest</th>\n",
       "      <th>date</th>\n",
       "      <th>land_act</th>\n",
       "      <th>land_sch</th>\n",
       "      <th>arr_act</th>\n",
       "      <th>arr_sch</th>\n",
       "      <th>lateness_land</th>\n",
       "      <th>lateness_arr</th>\n",
       "      <th>taxi_act</th>\n",
       "      <th>taxi_sch</th>\n",
       "      <th>q_of_day</th>\n",
       "      <th>weekday</th>\n",
       "      <th>land_act_t</th>\n",
       "      <th>land_sch_t</th>\n",
       "      <th>arr_act_t</th>\n",
       "      <th>arr_sch_t</th>\n",
       "    </tr>\n",
       "  </thead>\n",
       "  <tbody>\n",
       "    <tr>\n",
       "      <th>0</th>\n",
       "      <td>American</td>\n",
       "      <td>AAL345</td>\n",
       "      <td>LGA</td>\n",
       "      <td>ORD</td>\n",
       "      <td>2017-10-02</td>\n",
       "      <td>2017-10-02 18:45:00</td>\n",
       "      <td>2017-10-02 19:01:00</td>\n",
       "      <td>2017-10-02 19:01:00</td>\n",
       "      <td>2017-10-02 19:16:00</td>\n",
       "      <td>-16</td>\n",
       "      <td>-15</td>\n",
       "      <td>16</td>\n",
       "      <td>15</td>\n",
       "      <td>3</td>\n",
       "      <td>0</td>\n",
       "      <td>18:45:00</td>\n",
       "      <td>19:01:00</td>\n",
       "      <td>19:01:00</td>\n",
       "      <td>19:16:00</td>\n",
       "    </tr>\n",
       "    <tr>\n",
       "      <th>1</th>\n",
       "      <td>American</td>\n",
       "      <td>AAL345</td>\n",
       "      <td>LGA</td>\n",
       "      <td>ORD</td>\n",
       "      <td>2017-10-01</td>\n",
       "      <td>2017-10-01 19:00:00</td>\n",
       "      <td>2017-10-01 19:02:00</td>\n",
       "      <td>2017-10-01 19:20:00</td>\n",
       "      <td>2017-10-01 19:16:00</td>\n",
       "      <td>-2</td>\n",
       "      <td>4</td>\n",
       "      <td>20</td>\n",
       "      <td>14</td>\n",
       "      <td>3</td>\n",
       "      <td>6</td>\n",
       "      <td>19:00:00</td>\n",
       "      <td>19:02:00</td>\n",
       "      <td>19:20:00</td>\n",
       "      <td>19:16:00</td>\n",
       "    </tr>\n",
       "    <tr>\n",
       "      <th>2</th>\n",
       "      <td>American</td>\n",
       "      <td>AAL345</td>\n",
       "      <td>LGA</td>\n",
       "      <td>ORD</td>\n",
       "      <td>2017-09-29</td>\n",
       "      <td>2017-09-29 18:44:00</td>\n",
       "      <td>2017-09-29 19:10:00</td>\n",
       "      <td>2017-09-29 19:01:00</td>\n",
       "      <td>2017-09-29 19:16:00</td>\n",
       "      <td>-26</td>\n",
       "      <td>-15</td>\n",
       "      <td>17</td>\n",
       "      <td>6</td>\n",
       "      <td>3</td>\n",
       "      <td>4</td>\n",
       "      <td>18:44:00</td>\n",
       "      <td>19:10:00</td>\n",
       "      <td>19:01:00</td>\n",
       "      <td>19:16:00</td>\n",
       "    </tr>\n",
       "    <tr>\n",
       "      <th>3</th>\n",
       "      <td>American</td>\n",
       "      <td>AAL345</td>\n",
       "      <td>LGA</td>\n",
       "      <td>ORD</td>\n",
       "      <td>2017-09-28</td>\n",
       "      <td>2017-09-28 19:11:00</td>\n",
       "      <td>2017-09-28 19:08:00</td>\n",
       "      <td>2017-09-28 19:23:00</td>\n",
       "      <td>2017-09-28 19:16:00</td>\n",
       "      <td>3</td>\n",
       "      <td>7</td>\n",
       "      <td>12</td>\n",
       "      <td>8</td>\n",
       "      <td>3</td>\n",
       "      <td>3</td>\n",
       "      <td>19:11:00</td>\n",
       "      <td>19:08:00</td>\n",
       "      <td>19:23:00</td>\n",
       "      <td>19:16:00</td>\n",
       "    </tr>\n",
       "    <tr>\n",
       "      <th>4</th>\n",
       "      <td>American</td>\n",
       "      <td>AAL345</td>\n",
       "      <td>LGA</td>\n",
       "      <td>ORD</td>\n",
       "      <td>2017-09-27</td>\n",
       "      <td>2017-09-27 19:01:00</td>\n",
       "      <td>2017-09-27 19:06:00</td>\n",
       "      <td>2017-09-27 19:18:00</td>\n",
       "      <td>2017-09-27 19:16:00</td>\n",
       "      <td>-5</td>\n",
       "      <td>2</td>\n",
       "      <td>17</td>\n",
       "      <td>10</td>\n",
       "      <td>3</td>\n",
       "      <td>2</td>\n",
       "      <td>19:01:00</td>\n",
       "      <td>19:06:00</td>\n",
       "      <td>19:18:00</td>\n",
       "      <td>19:16:00</td>\n",
       "    </tr>\n",
       "  </tbody>\n",
       "</table>\n",
       "</div>"
      ],
      "text/plain": [
       "    airline   f_num origin dest        date            land_act  \\\n",
       "0  American  AAL345    LGA  ORD  2017-10-02 2017-10-02 18:45:00   \n",
       "1  American  AAL345    LGA  ORD  2017-10-01 2017-10-01 19:00:00   \n",
       "2  American  AAL345    LGA  ORD  2017-09-29 2017-09-29 18:44:00   \n",
       "3  American  AAL345    LGA  ORD  2017-09-28 2017-09-28 19:11:00   \n",
       "4  American  AAL345    LGA  ORD  2017-09-27 2017-09-27 19:01:00   \n",
       "\n",
       "             land_sch             arr_act             arr_sch  lateness_land  \\\n",
       "0 2017-10-02 19:01:00 2017-10-02 19:01:00 2017-10-02 19:16:00            -16   \n",
       "1 2017-10-01 19:02:00 2017-10-01 19:20:00 2017-10-01 19:16:00             -2   \n",
       "2 2017-09-29 19:10:00 2017-09-29 19:01:00 2017-09-29 19:16:00            -26   \n",
       "3 2017-09-28 19:08:00 2017-09-28 19:23:00 2017-09-28 19:16:00              3   \n",
       "4 2017-09-27 19:06:00 2017-09-27 19:18:00 2017-09-27 19:16:00             -5   \n",
       "\n",
       "   lateness_arr  taxi_act  taxi_sch  q_of_day  weekday land_act_t land_sch_t  \\\n",
       "0           -15        16        15         3        0   18:45:00   19:01:00   \n",
       "1             4        20        14         3        6   19:00:00   19:02:00   \n",
       "2           -15        17         6         3        4   18:44:00   19:10:00   \n",
       "3             7        12         8         3        3   19:11:00   19:08:00   \n",
       "4             2        17        10         3        2   19:01:00   19:06:00   \n",
       "\n",
       "  arr_act_t arr_sch_t  \n",
       "0  19:01:00  19:16:00  \n",
       "1  19:20:00  19:16:00  \n",
       "2  19:01:00  19:16:00  \n",
       "3  19:23:00  19:16:00  \n",
       "4  19:18:00  19:16:00  "
      ]
     },
     "execution_count": 312,
     "metadata": {},
     "output_type": "execute_result"
    }
   ],
   "source": [
    "df.head(5)"
   ]
  },
  {
   "cell_type": "code",
   "execution_count": null,
   "metadata": {
    "collapsed": true
   },
   "outputs": [],
   "source": []
  }
 ],
 "metadata": {
  "kernelspec": {
   "display_name": "Python [conda root]",
   "language": "python",
   "name": "conda-root-py"
  },
  "language_info": {
   "codemirror_mode": {
    "name": "ipython",
    "version": 3
   },
   "file_extension": ".py",
   "mimetype": "text/x-python",
   "name": "python",
   "nbconvert_exporter": "python",
   "pygments_lexer": "ipython3",
   "version": "3.6.1"
  }
 },
 "nbformat": 4,
 "nbformat_minor": 2
}
